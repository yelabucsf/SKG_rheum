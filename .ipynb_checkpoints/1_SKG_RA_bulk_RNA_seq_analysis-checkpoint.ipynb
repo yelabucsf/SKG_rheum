{
 "cells": [
  {
   "cell_type": "markdown",
   "metadata": {},
   "source": [
    "Bulk RNA Sequencing Analysis for SKG mice Rheumatoid Arthritis Project\n",
    "\n",
    "\n",
    "Last Updated on: August 10, 2021"
   ]
  },
  {
   "cell_type": "markdown",
   "metadata": {},
   "source": [
    "# Import python packages"
   ]
  },
  {
   "cell_type": "code",
   "execution_count": 114,
   "metadata": {},
   "outputs": [
    {
     "name": "stdout",
     "output_type": "stream",
     "text": [
      "3.7.7\n"
     ]
    }
   ],
   "source": [
    "\n",
    "from platform import python_version\n",
    "\n",
    "print(python_version())"
   ]
  },
  {
   "cell_type": "code",
   "execution_count": 6,
   "metadata": {},
   "outputs": [],
   "source": [
    "import pandas as pd\n",
    "\n",
    "import numpy as np\n",
    "\n",
    "import rpy2\n",
    "import rpy2.robjects as ro\n",
    "from rpy2.robjects.packages import importr\n",
    "from rpy2.robjects import pandas2ri\n",
    "from rpy2.robjects.conversion import localconverter\n",
    "\n",
    "import matplotlib\n",
    "import matplotlib.pyplot as plt\n",
    "\n",
    "from matplotlib import rcParams"
   ]
  },
  {
   "cell_type": "code",
   "execution_count": 7,
   "metadata": {},
   "outputs": [
    {
     "name": "stdout",
     "output_type": "stream",
     "text": [
      "1.1.3\n",
      "1.19.2\n",
      "2.9.4\n",
      "3.3.1\n"
     ]
    }
   ],
   "source": [
    "print(pd.__version__)\n",
    "print(np.__version__)\n",
    "print(rpy2.__version__)\n",
    "print(matplotlib.__version__)"
   ]
  },
  {
   "cell_type": "code",
   "execution_count": 9,
   "metadata": {},
   "outputs": [],
   "source": [
    "pandas2ri.activate()\n",
    "\n",
    "%load_ext rpy2.ipython\n",
    "\n",
    "plt.rcParams['figure.figsize']=(8,8)"
   ]
  },
  {
   "cell_type": "code",
   "execution_count": 19,
   "metadata": {},
   "outputs": [],
   "source": [
    "%%R\n",
    "# Load libraries from correct lib Paths for my environment - ignore this!\n",
    "#.libPaths(.libPaths()[c(3,2,1)])\n",
    "\n",
    "# Load all the R libraries we will be using in the notebook\n",
    "\n",
    "library(\"DESeq2\")\n",
    "library(\"ggplot2\")\n"
   ]
  },
  {
   "cell_type": "code",
   "execution_count": 11,
   "metadata": {},
   "outputs": [
    {
     "name": "stdout",
     "output_type": "stream",
     "text": [
      "/wynton/group/ye/emccarthy/EM/judy_proj/final_code\n"
     ]
    }
   ],
   "source": [
    "!pwd"
   ]
  },
  {
   "cell_type": "markdown",
   "metadata": {},
   "source": [
    "# Data Processing"
   ]
  },
  {
   "cell_type": "markdown",
   "metadata": {},
   "source": [
    "Load data"
   ]
  },
  {
   "cell_type": "code",
   "execution_count": 116,
   "metadata": {},
   "outputs": [
    {
     "data": {
      "text/plain": [
       "$platform\n",
       "[1] \"x86_64-pc-linux-gnu\"\n",
       "\n",
       "$arch\n",
       "[1] \"x86_64\"\n",
       "\n",
       "$os\n",
       "[1] \"linux-gnu\"\n",
       "\n",
       "$system\n",
       "[1] \"x86_64, linux-gnu\"\n",
       "\n",
       "$status\n",
       "[1] \"\"\n",
       "\n",
       "$major\n",
       "[1] \"3\"\n",
       "\n",
       "$minor\n",
       "[1] \"5.1\"\n",
       "\n",
       "$year\n",
       "[1] \"2018\"\n",
       "\n",
       "$month\n",
       "[1] \"07\"\n",
       "\n",
       "$day\n",
       "[1] \"02\"\n",
       "\n",
       "$`svn rev`\n",
       "[1] \"74947\"\n",
       "\n",
       "$language\n",
       "[1] \"R\"\n",
       "\n",
       "$version.string\n",
       "[1] \"R version 3.5.1 (2018-07-02)\"\n",
       "\n",
       "$nickname\n",
       "[1] \"Feather Spray\"\n",
       "\n"
      ]
     },
     "metadata": {},
     "output_type": "display_data"
    }
   ],
   "source": [
    "%%R\n",
    "R.Version()"
   ]
  },
  {
   "cell_type": "code",
   "execution_count": 13,
   "metadata": {},
   "outputs": [
    {
     "data": {
      "text/plain": [
       "     gene                                 mrna  X1a  X2a  X3a  X1b   X2b  X3b\n",
       "1   Itm2a                            NM_008409  940 1117 1175 2224  2010 3062\n",
       "2  Sergef                            NM_013789  226  220  188  187   212  328\n",
       "3 Fam109a         CCDS19642;NM_175474;AK039192  108   91   83   73   103  171\n",
       "4    Dhx9 AK169735;AK141824;NM_007842;BC089159 9298 9511 8581 9319 10081 9418\n",
       "5   Ssu72          AK004446;BC016544;NM_026899 2301 2166 1881 2394  1978 2752\n",
       "6  Eif2b2                            NM_145445 1523 1422 1245 1495  1317 1536\n",
       "   X4a  X5a  X6a   X4b  X5b  X6b\n",
       "1 1086  921 1130  3669 2711 3195\n",
       "2  180  160  239   187  148  198\n",
       "3   80   60   72    87   83  103\n",
       "4 9244 7644 9736 10315 7498 8810\n",
       "5 2419 1735 2222  2584 1744 2356\n",
       "6 1344 1099 1394  1176  975 1168\n",
       "    mouse genotype  gfp subgroup\n",
       "X1a     1      SKG  Low  SKG_low\n",
       "X2a     2      SKG  Low  SKG_low\n",
       "X3a     3      SKG  Low  SKG_low\n",
       "X1b     1      SKG High SKG_high\n",
       "X2b     2      SKG High SKG_high\n",
       "X3b     3      SKG High SKG_high\n"
      ]
     },
     "metadata": {},
     "output_type": "display_data"
    }
   ],
   "source": [
    "%%R\n",
    "count_file_path = \"data/bulk_RNAseq_data.csv\"\n",
    "meta_data_file_path = \"data/bulk_rna_seq_meta_data.csv\"\n",
    "\n",
    "\n",
    "cts <- read.csv(count_file_path, header = TRUE)\n",
    "coldata <- read.csv(meta_data_file_path, row.names=1)\n",
    "\n",
    "coldata$mouse <- factor(coldata$mouse)\n",
    "coldata$genotype <- factor(coldata$genotype)\n",
    "coldata$gfp <- factor(coldata$gfp)\n",
    "coldata$subgroup <- factor(coldata$subgroup)\n",
    "\n",
    "print(head(cts))\n",
    "print(head(coldata))"
   ]
  },
  {
   "cell_type": "markdown",
   "metadata": {},
   "source": [
    "Correct gene names that were changed to dates"
   ]
  },
  {
   "cell_type": "code",
   "execution_count": 14,
   "metadata": {},
   "outputs": [
    {
     "data": {
      "text/plain": [
       "     Var1 Freq\n",
       "19  1-Mar    2\n",
       "217 2-Mar    2\n"
      ]
     },
     "metadata": {},
     "output_type": "display_data"
    }
   ],
   "source": [
    "%%R\n",
    "length(unique(cts[,\"gene\"]))\n",
    "as.data.frame(table(cts[,\"gene\"]))[as.data.frame(table(cts[,\"gene\"]))$Freq == 2,]"
   ]
  },
  {
   "cell_type": "code",
   "execution_count": 15,
   "metadata": {},
   "outputs": [
    {
     "data": {
      "text/plain": [
       "[1] 1-Mar 3-Mar 5-Mar 2-Mar 6-Mar 7-Mar 1-Mar 2-Mar 8-Mar\n",
       "17044 Levels: 0610005C13Rik 0610007P14Rik 0610009B22Rik ... Zzz3\n",
       " [1] 8-Sep  3-Sep  5-Sep  11-Sep 9-Sep  6-Sep  2-Sep  10-Sep 7-Sep  1-Sep \n",
       "[11] 15-Sep\n",
       "17044 Levels: 0610005C13Rik 0610007P14Rik 0610009B22Rik ... Zzz3\n"
      ]
     },
     "metadata": {},
     "output_type": "display_data"
    }
   ],
   "source": [
    "%%R\n",
    "print(cts[,\"gene\"][which(grepl(\"-Mar\", cts[,\"gene\"], fixed = TRUE))])\n",
    "print(cts[,\"gene\"][which(grepl(\"-Sep\", cts[,\"gene\"], fixed = TRUE))])"
   ]
  },
  {
   "cell_type": "code",
   "execution_count": 16,
   "metadata": {},
   "outputs": [
    {
     "data": {
      "text/plain": [
       "        gene                                                      mrna\n",
       "3529   8-Sep                       NM_033144;NM_001252332;NM_001252333\n",
       "4028   1-Mar                                     AK004989;NM_001081361\n",
       "4590   3-Mar                                        NM_177115;AK036622\n",
       "5219   5-Mar              NM_027314;BC107214;NM_001164337;NM_001164336\n",
       "5884   3-Sep             AK046722;AK220520;AK141915;AK030668;NM_011889\n",
       "6089   5-Sep                               BC094347;BC145332;NM_213614\n",
       "7560   2-Mar                NM_001252480;NR_045522;NM_145486;NR_045523\n",
       "8097  11-Sep AK171368;BC062206;AK136063;NM_001009818;AK028475;AK188648\n",
       "8501   9-Sep          NM_001113488;NM_001113486;NM_001113487;NM_017380\n",
       "8964   6-Mar                                        AK218077;NM_172606\n",
       "9423   6-Sep          NM_001177324;NM_019942;NM_001253706;NM_001177323\n",
       "9679   2-Sep          NM_001159719;NM_001159718;NM_010891;NM_001159717\n",
       "10653  7-Mar                      BC025029;NM_020575;AK045853;AK034109\n",
       "11718 10-Sep                                 NM_001024911;NM_001024910\n",
       "13387  7-Sep                     CCDS40565;AK052529;NM_009859;AK141572\n",
       "13581  1-Mar     NM_175188;AK086052;NM_001166372;AK152592;NM_001166375\n",
       "14249  1-Sep                                                 NM_017461\n",
       "14743  2-Mar                                        AK078650;NM_133684\n",
       "15540 15-Sep                                                 NM_053102\n",
       "16551  8-Mar                               AK165647;NM_027920;BC050908\n"
      ]
     },
     "metadata": {},
     "output_type": "display_data"
    }
   ],
   "source": [
    "%%R\n",
    "cts[,c(\"gene\",\"mrna\")][which(cts[,\"gene\"] %in% unique(c(\"1-Mar\", \"3-Mar\", \"5-Mar\", \"2-Mar\", \"6-Mar\", \"7-Mar\", \"1-Mar\", \"2-Mar\", \"8-Mar\",\"8-Sep\",  \"3-Sep\",  \"5-Sep\",  \"11-Sep\", \"9-Sep\",  \"6-Sep\",  \"2-Sep\",  \"10-Sep\",\"7-Sep\",  \"1-Sep\" , \"15-Sep\"))),]\n",
    "\n"
   ]
  },
  {
   "cell_type": "code",
   "execution_count": 17,
   "metadata": {},
   "outputs": [
    {
     "name": "stderr",
     "output_type": "stream",
     "text": [
      "/wynton/home/ye/emccarthy/miniconda3/envs/deseq/lib/python3.7/site-packages/rpy2/rinterface/__init__.py:146: RRuntimeWarning: hash-2.2.6.1 provided by Decision Patterns\n",
      "\n",
      "\n",
      "  warnings.warn(x, RRuntimeWarning)\n",
      "/wynton/home/ye/emccarthy/miniconda3/envs/deseq/lib/python3.7/site-packages/rpy2/rinterface/__init__.py:146: RRuntimeWarning: \n",
      "Attaching package: ‘hash’\n",
      "\n",
      "\n",
      "  warnings.warn(x, RRuntimeWarning)\n",
      "/wynton/home/ye/emccarthy/miniconda3/envs/deseq/lib/python3.7/site-packages/rpy2/rinterface/__init__.py:146: RRuntimeWarning: The following objects are masked from ‘package:SummarizedExperiment’:\n",
      "\n",
      "    values, values<-\n",
      "\n",
      "\n",
      "  warnings.warn(x, RRuntimeWarning)\n",
      "/wynton/home/ye/emccarthy/miniconda3/envs/deseq/lib/python3.7/site-packages/rpy2/rinterface/__init__.py:146: RRuntimeWarning: The following objects are masked from ‘package:GenomicRanges’:\n",
      "\n",
      "    values, values<-\n",
      "\n",
      "\n",
      "  warnings.warn(x, RRuntimeWarning)\n",
      "/wynton/home/ye/emccarthy/miniconda3/envs/deseq/lib/python3.7/site-packages/rpy2/rinterface/__init__.py:146: RRuntimeWarning: The following objects are masked from ‘package:IRanges’:\n",
      "\n",
      "    values, values<-\n",
      "\n",
      "\n",
      "  warnings.warn(x, RRuntimeWarning)\n",
      "/wynton/home/ye/emccarthy/miniconda3/envs/deseq/lib/python3.7/site-packages/rpy2/rinterface/__init__.py:146: RRuntimeWarning: The following objects are masked from ‘package:S4Vectors’:\n",
      "\n",
      "    values, values<-\n",
      "\n",
      "\n",
      "  warnings.warn(x, RRuntimeWarning)\n"
     ]
    }
   ],
   "source": [
    "%%R\n",
    "library(hash)"
   ]
  },
  {
   "cell_type": "code",
   "execution_count": 18,
   "metadata": {},
   "outputs": [],
   "source": [
    "%%R\n",
    "h <- hash()\n",
    "h[[\"NM_033144;NM_001252332;NM_001252333\"]] <- \"Sept8\"\n",
    "h[[\"AK004989;NM_001081361\"]] <- \"Marc1\"\n",
    "h[[\"NM_177115;AK036622\"]] <- \"Mar-03\"\n",
    "h[[\"NM_027314;BC107214;NM_001164337;NM_001164336\" ]] <- \"March5\"\n",
    "h[[\"AK046722;AK220520;AK141915;AK030668;NM_011889\"]] <- \"Sept3\"\n",
    "\n",
    "h[[\"BC094347;BC145332;NM_213614\"]] <- \"Sep-05\"\n",
    "h[[\"NM_001252480;NR_045522;NM_145486;NR_045523\"]] <- \"March2\"\n",
    "h[[\"AK171368;BC062206;AK136063;NM_001009818;AK028475;AK188648\"]] <- \"Sep-11\"\n",
    "h[[\"NM_001113488;NM_001113486;NM_001113487;NM_017380\"]] <- \"Sep-09\"\n",
    "h[[\"AK218077;NM_172606\" ]] <- \"Mar-06\"\n",
    "\n",
    "h[[\"NM_001177324;NM_019942;NM_001253706;NM_001177323\"]] <- \"Sep-06\"\n",
    "h[[\"NM_001159719;NM_001159718;NM_010891;NM_001159717\" ]] <- \"Sept2\"\n",
    "h[[\"BC025029;NM_020575;AK045853;AK034109\"]] <- \"March7\"\n",
    "h[[\"NM_001024911;NM_001024910\"]] <- \"Sep-10\"\n",
    "h[[\"CCDS40565;AK052529;NM_009859;AK141572\"]] <- \"Sept7\"\n",
    "\n",
    "h[[\"NM_175188;AK086052;NM_001166372;AK152592;NM_001166375\"]] <- \"March1\"\n",
    "h[[\"NM_017461\"]] <- \"Sept1\"\n",
    "h[[\"AK078650;NM_133684\"]] <- \"Marc2\"\n",
    "h[[\"NM_053102\"]] <- \"Sep15\"\n",
    "h[[\"AK165647;NM_027920;BC050908\"]] <- \"Mar-08\""
   ]
  },
  {
   "cell_type": "code",
   "execution_count": 20,
   "metadata": {},
   "outputs": [],
   "source": [
    "%%R\n",
    "cts[,\"gene_upd\"] <- as.character(cts[,\"gene\"])"
   ]
  },
  {
   "cell_type": "code",
   "execution_count": 21,
   "metadata": {},
   "outputs": [
    {
     "data": {
      "text/plain": [
       "     gene                                 mrna  X1a  X2a  X3a  X1b   X2b  X3b\n",
       "1   Itm2a                            NM_008409  940 1117 1175 2224  2010 3062\n",
       "2  Sergef                            NM_013789  226  220  188  187   212  328\n",
       "3 Fam109a         CCDS19642;NM_175474;AK039192  108   91   83   73   103  171\n",
       "4    Dhx9 AK169735;AK141824;NM_007842;BC089159 9298 9511 8581 9319 10081 9418\n",
       "5   Ssu72          AK004446;BC016544;NM_026899 2301 2166 1881 2394  1978 2752\n",
       "6  Eif2b2                            NM_145445 1523 1422 1245 1495  1317 1536\n",
       "   X4a  X5a  X6a   X4b  X5b  X6b gene_upd\n",
       "1 1086  921 1130  3669 2711 3195    Itm2a\n",
       "2  180  160  239   187  148  198   Sergef\n",
       "3   80   60   72    87   83  103  Fam109a\n",
       "4 9244 7644 9736 10315 7498 8810     Dhx9\n",
       "5 2419 1735 2222  2584 1744 2356    Ssu72\n",
       "6 1344 1099 1394  1176  975 1168   Eif2b2\n"
      ]
     },
     "metadata": {},
     "output_type": "display_data"
    }
   ],
   "source": [
    "%%R\n",
    "head(cts)"
   ]
  },
  {
   "cell_type": "code",
   "execution_count": 22,
   "metadata": {},
   "outputs": [
    {
     "data": {
      "text/plain": [
       "[1] 3529\n",
       "[1] 4028\n",
       "[1] 4590\n",
       "[1] 5219\n",
       "[1] 5884\n",
       "[1] 6089\n",
       "[1] 7560\n",
       "[1] 8097\n",
       "[1] 8501\n",
       "[1] 8964\n",
       "[1] 9423\n",
       "[1] 9679\n",
       "[1] 10653\n",
       "[1] 11718\n",
       "[1] 13387\n",
       "[1] 13581\n",
       "[1] 14249\n",
       "[1] 14743\n",
       "[1] 15540\n",
       "[1] 16551\n"
      ]
     },
     "metadata": {},
     "output_type": "display_data"
    }
   ],
   "source": [
    "%%R\n",
    "for (x in c(1:length(cts[,\"mrna\"]))){\n",
    "    if (as.character(cts[,\"mrna\"][x]) %in% keys(h)){\n",
    "        print(x)\n",
    "        cts[,\"gene_upd\"][x] <- h[[as.character(cts[,\"mrna\"][x])]]\n",
    "    }\n",
    "}"
   ]
  },
  {
   "cell_type": "code",
   "execution_count": 23,
   "metadata": {},
   "outputs": [
    {
     "data": {
      "text/plain": [
       "[1] 17046    15\n",
       "[1] 17046\n"
      ]
     },
     "metadata": {},
     "output_type": "display_data"
    }
   ],
   "source": [
    "%%R\n",
    "print(dim(cts))\n",
    "print(length(unique(cts[,\"gene_upd\"])))\n"
   ]
  },
  {
   "cell_type": "code",
   "execution_count": 24,
   "metadata": {},
   "outputs": [
    {
     "data": {
      "text/plain": [
       "[1] Var1 Freq\n",
       "<0 rows> (or 0-length row.names)\n"
      ]
     },
     "metadata": {},
     "output_type": "display_data"
    }
   ],
   "source": [
    "%%R\n",
    "as.data.frame(table(cts[,\"gene_upd\"]))[as.data.frame(table(cts[,\"gene_upd\"]))$Freq == 2,]"
   ]
  },
  {
   "cell_type": "code",
   "execution_count": 25,
   "metadata": {},
   "outputs": [
    {
     "data": {
      "text/plain": [
       "         X1a  X2a  X3a  X1b   X2b  X3b  X4a  X5a  X6a   X4b  X5b  X6b\n",
       "Itm2a    940 1117 1175 2224  2010 3062 1086  921 1130  3669 2711 3195\n",
       "Sergef   226  220  188  187   212  328  180  160  239   187  148  198\n",
       "Fam109a  108   91   83   73   103  171   80   60   72    87   83  103\n",
       "Dhx9    9298 9511 8581 9319 10081 9418 9244 7644 9736 10315 7498 8810\n",
       "Ssu72   2301 2166 1881 2394  1978 2752 2419 1735 2222  2584 1744 2356\n",
       "Eif2b2  1523 1422 1245 1495  1317 1536 1344 1099 1394  1176  975 1168\n"
      ]
     },
     "metadata": {},
     "output_type": "display_data"
    }
   ],
   "source": [
    "%%R\n",
    "row.names(cts) <- cts[,\"gene_upd\"]\n",
    "cts <- as.matrix(cts[,c(\"X1a\",  \"X2a\",  \"X3a\",  \"X1b\",   \"X2b\",  \"X3b\",\"X4a\",\"X5a\",\"X6a\",\"X4b\",\"X5b\",\"X6b\")])\n",
    "head(cts)"
   ]
  },
  {
   "cell_type": "code",
   "execution_count": 26,
   "metadata": {},
   "outputs": [
    {
     "data": {
      "text/plain": [
       "         X1a  X2a  X3a  X1b   X2b  X3b  X4a  X5a  X6a   X4b  X5b  X6b\n",
       "Itm2a    940 1117 1175 2224  2010 3062 1086  921 1130  3669 2711 3195\n",
       "Sergef   226  220  188  187   212  328  180  160  239   187  148  198\n",
       "Fam109a  108   91   83   73   103  171   80   60   72    87   83  103\n",
       "Dhx9    9298 9511 8581 9319 10081 9418 9244 7644 9736 10315 7498 8810\n",
       "Ssu72   2301 2166 1881 2394  1978 2752 2419 1735 2222  2584 1744 2356\n",
       "Eif2b2  1523 1422 1245 1495  1317 1536 1344 1099 1394  1176  975 1168\n"
      ]
     },
     "metadata": {},
     "output_type": "display_data"
    }
   ],
   "source": [
    "%%R\n",
    "cts[,1] <- as.integer(cts[,1])\n",
    "cts[,2] <- as.integer(cts[,2])\n",
    "cts[,3] <- as.integer(cts[,3])\n",
    "\n",
    "cts[,4] <- as.integer(cts[,4])\n",
    "cts[,5] <- as.integer(cts[,5])\n",
    "cts[,6] <- as.integer(cts[,6])\n",
    "\n",
    "cts[,7] <- as.integer(cts[,7])\n",
    "cts[,8] <- as.integer(cts[,8])\n",
    "cts[,9] <- as.integer(cts[,9])\n",
    "\n",
    "cts[,10] <- as.integer(cts[,10])\n",
    "cts[,11] <- as.integer(cts[,11])\n",
    "cts[,12] <- as.integer(cts[,12])\n",
    "head(cts)"
   ]
  },
  {
   "cell_type": "markdown",
   "metadata": {},
   "source": [
    "Create DeSeq2 object"
   ]
  },
  {
   "cell_type": "code",
   "execution_count": 27,
   "metadata": {},
   "outputs": [
    {
     "name": "stderr",
     "output_type": "stream",
     "text": [
      "/wynton/home/ye/emccarthy/miniconda3/envs/deseq/lib/python3.7/site-packages/rpy2/rinterface/__init__.py:146: RRuntimeWarning: converting counts to integer mode\n",
      "\n",
      "  warnings.warn(x, RRuntimeWarning)\n"
     ]
    },
    {
     "data": {
      "text/plain": [
       "class: DESeqDataSet \n",
       "dim: 17046 12 \n",
       "metadata(1): version\n",
       "assays(1): counts\n",
       "rownames(17046): Itm2a Sergef ... 4930455C13Rik Prss39\n",
       "rowData names(0):\n",
       "colnames(12): X1a X2a ... X5b X6b\n",
       "colData names(4): mouse genotype gfp subgroup\n"
      ]
     },
     "metadata": {},
     "output_type": "display_data"
    }
   ],
   "source": [
    "%%R\n",
    "\n",
    "dds <- DESeqDataSetFromMatrix(countData = cts,\n",
    "                              colData = coldata,\n",
    "                             design = ~ mouse + gfp)\n",
    "\n",
    "\n",
    "\n",
    "dds"
   ]
  },
  {
   "cell_type": "markdown",
   "metadata": {},
   "source": [
    "Filter genes with < 10 counts across all samples"
   ]
  },
  {
   "cell_type": "code",
   "execution_count": 28,
   "metadata": {},
   "outputs": [],
   "source": [
    "%%R\n",
    "keep <- rowSums(counts(dds)) >= 10\n",
    "dds <- dds[keep,]"
   ]
  },
  {
   "cell_type": "markdown",
   "metadata": {},
   "source": [
    "Normalize data"
   ]
  },
  {
   "cell_type": "code",
   "execution_count": 29,
   "metadata": {},
   "outputs": [
    {
     "data": {
      "text/plain": [
       "             X1a      X2a      X3a      X1b      X2b      X3b      X4a      X5a\n",
       "Itm2a   11.11822 11.26753 11.29451 11.75436 11.67509 11.96831 11.17075 11.19368\n",
       "Sergef  10.36382 10.36588 10.30285 10.26946 10.31767 10.44484 10.25821 10.28465\n",
       "Fam109a 10.12716 10.09124 10.06514 10.01558 10.09888 10.21052 10.03649 10.01656\n",
       "             X6a      X4b      X5b      X6b\n",
       "Itm2a   11.24436 12.26139 12.11570 12.16153\n",
       "Sergef  10.38143 10.27405 10.25012 10.30843\n",
       "Fam109a 10.02658 10.05778 10.08534 10.10973\n"
      ]
     },
     "metadata": {},
     "output_type": "display_data"
    }
   ],
   "source": [
    "%%R\n",
    "vsd <- vst(dds, blind=FALSE)\n",
    "head(assay(vsd), 3)"
   ]
  },
  {
   "cell_type": "markdown",
   "metadata": {},
   "source": [
    "# PCA Analylsis"
   ]
  },
  {
   "cell_type": "code",
   "execution_count": 91,
   "metadata": {},
   "outputs": [
    {
     "data": {
      "image/png": "[encoded data removed]"
     },
     "metadata": {},
     "output_type": "display_data"
    }
   ],
   "source": [
    "%%R\n",
    "plotPCA(vsd, intgroup=c(\"genotype\", \"gfp\"))"
   ]
  },
  {
   "cell_type": "code",
   "execution_count": 92,
   "metadata": {},
   "outputs": [],
   "source": [
    "%%R\n",
    "pcaData <- plotPCA(vsd, intgroup=c(\"subgroup\"), returnData=TRUE)\n",
    "percentVar <- round(100 * attr(pcaData, \"percentVar\"))\n"
   ]
  },
  {
   "cell_type": "code",
   "execution_count": 32,
   "metadata": {},
   "outputs": [
    {
     "data": {
      "text/plain": [
       "          PC1        PC2    group subgroup name\n",
       "X1a -8.784609  2.2423448  SKG_low  SKG_low  X1a\n",
       "X2a -9.050530  0.6079879  SKG_low  SKG_low  X2a\n",
       "X3a -7.175999  1.8491677  SKG_low  SKG_low  X3a\n",
       "X1b  2.671495  4.7084244 SKG_high SKG_high  X1b\n",
       "X2b  3.127670  4.2178196 SKG_high SKG_high  X2b\n",
       "X3b  3.041795  5.0273301 SKG_high SKG_high  X3b\n",
       "X4a -1.480037 -5.3696344   WT_low   WT_low  X4a\n",
       "X5a -1.186614 -4.6404616   WT_low   WT_low  X5a\n",
       "X6a -2.292166 -4.7714414   WT_low   WT_low  X6a\n",
       "X4b  6.539325 -1.6385986  WT_high  WT_high  X4b\n",
       "X5b  7.866242 -1.0977480  WT_high  WT_high  X5b\n",
       "X6b  6.723429 -1.1351906  WT_high  WT_high  X6b\n"
      ]
     },
     "metadata": {},
     "output_type": "display_data"
    }
   ],
   "source": [
    "%%R\n",
    "pcaData"
   ]
  },
  {
   "cell_type": "code",
   "execution_count": 33,
   "metadata": {},
   "outputs": [
    {
     "data": {
      "text/plain": [
       "png \n",
       "  2 \n"
      ]
     },
     "metadata": {},
     "output_type": "display_data"
    }
   ],
   "source": [
    "%%R\n",
    "res = 300\n",
    "height = 10\n",
    "width = 10\n",
    "\n",
    "# file_save = \"results/bulk_RNA_seq/fig_1_plot_PCA_bulk_RNA_seq_08102021.eps\"\n",
    "# setEPS()\n",
    "# postscript(file_save, width = width, height = height)\n",
    "g <- ggplot(pcaData, aes(PC1, PC2, color=subgroup)) + \n",
    "geom_point(aes(color = subgroup, fill = subgroup), size=9, shape = 21, fill = c(\"#aec7e8\",\"#aec7e8\",\"#aec7e8\",\"#1f77b4\",\"#1f77b4\",\"#1f77b4\",\"#ffbb78\",\"#ffbb78\",\"#ffbb78\", \"#ff7f0e\",\"#ff7f0e\",\"#ff7f0e\"), color = 'black', show_guide=TRUE) + \n",
    "scale_color_manual(\"Subgroup\", values=c(WT_Low=\"#ffbb78\",WT_High=\"#ff7f0e\",SKG_Low=\"#aec7e8\", SKG_High=\"#1f77b4\"),labels=c(\"WT Low\",\"WT High\",'SKG Low','SKG High')) +\n",
    "#scale_color_manual(values=c(\"#1f77b4\",\"#aec7e8\", \"#ff7f0e\",\"#ffbb78\")) +\n",
    "xlab(paste0(\"PC1: \",percentVar[1],\"% variance\")) + \n",
    "ylab(paste0(\"PC2: \",percentVar[2],\"% variance\")) + \n",
    "coord_fixed() + \n",
    "theme_classic() +\n",
    "theme(plot.title = element_text(\n",
    "                                size = rel(3), hjust = 0.5), axis.title = element_text(size = rel(3)),panel.grid.major = element_line(colour=\"lightgrey\"), axis.text.x =  element_text(face = \"plain\", size = rel(3)), \n",
    "        axis.text.y =  element_text(face = \"plain\", size = rel(3)),\n",
    "        panel.grid.minor = element_blank(),legend.position=\"right\")\n",
    "print(g)\n",
    "#dev.off()"
   ]
  },
  {
   "cell_type": "code",
   "execution_count": 34,
   "metadata": {},
   "outputs": [
    {
     "data": {
      "image/png": "[encoded data removed]"
     },
     "metadata": {},
     "output_type": "display_data"
    }
   ],
   "source": [
    "%%R\n",
    "print(g)"
   ]
  },
  {
   "cell_type": "markdown",
   "metadata": {},
   "source": [
    "# Differential Expression"
   ]
  },
  {
   "cell_type": "markdown",
   "metadata": {},
   "source": [
    "Run Diff Exp Analysis"
   ]
  },
  {
   "cell_type": "code",
   "execution_count": 35,
   "metadata": {},
   "outputs": [
    {
     "data": {
      "text/plain": [
       "[1] SKG_low  SKG_high WT_low   WT_high \n",
       "Levels: SKG_high SKG_low WT_high WT_low\n"
      ]
     },
     "metadata": {},
     "output_type": "display_data"
    }
   ],
   "source": [
    "%%R\n",
    "unique(dds$subgroup)"
   ]
  },
  {
   "cell_type": "code",
   "execution_count": 98,
   "metadata": {},
   "outputs": [
    {
     "data": {
      "text/plain": [
       "[1] 14123    12\n",
       "[1] 14123     6\n",
       "class: DESeqDataSet \n",
       "dim: 14123 6 \n",
       "metadata(1): version\n",
       "assays(1): counts\n",
       "rownames(14123): Itm2a Sergef ... Pxmp4 Prss39\n",
       "rowData names(0):\n",
       "colnames(6): X1a X2a ... X2b X3b\n",
       "colData names(4): mouse genotype gfp subgroup\n",
       "[1] 14123     6\n",
       "[1] 544   6\n",
       "[1] 143   6\n",
       "[1] 401   6\n",
       "log2 fold change (MLE): gfp Low vs High \n",
       "Wald test p-value: gfp Low vs High \n",
       "DataFrame with 544 rows and 6 columns\n",
       "                   baseMean    log2FoldChange             lfcSE\n",
       "                  <numeric>         <numeric>         <numeric>\n",
       "Kit        66.1216915876048 -2.53539626057259 0.605022465044883\n",
       "Gprc5b     107.934163122284 -1.96659279646028 0.448132123668785\n",
       "Rgl1       12.6889163633743 -5.10747203720333  1.66102692039259\n",
       "Ptgir      81.6382628880628 -3.58922346613868 0.540957159423145\n",
       "Cers6      1400.93701629232  1.07737843119381 0.136429888473234\n",
       "...                     ...               ...               ...\n",
       "Syp        114.993118871943 -3.24214687344472 0.454480878432729\n",
       "Crip1      1280.74345025339  1.18985957101084 0.177505294160075\n",
       "C1qtnf6    45.4793367831549 -3.89240371628577 0.853322271479909\n",
       "Dnmt3a     1799.92828001191 -1.13597434922085 0.147378828059377\n",
       "St6galnac3 47.3977540487243 -2.00235454707448 0.643946874326307\n",
       "                        stat               pvalue                 padj\n",
       "                   <numeric>            <numeric>            <numeric>\n",
       "Kit        -4.19058201480917 2.78239816779453e-05 0.000621728830029018\n",
       "Gprc5b     -4.38842183497158 1.14176155461756e-05 0.000281383255363225\n",
       "Rgl1       -3.07488817580161  0.00210581491952486   0.0244647611910726\n",
       "Ptgir      -6.63494955860476 3.24613523672276e-11  2.4235263779109e-09\n",
       "Cers6       7.89693844399191 2.85837445533925e-15 3.55671456736919e-13\n",
       "...                      ...                  ...                  ...\n",
       "Syp        -7.13373659333086 9.76801803152503e-13 9.25191678030714e-11\n",
       "Crip1       6.70323427051041 2.03856239942036e-11 1.58732723763456e-09\n",
       "C1qtnf6    -4.56146973585397 5.07967986291216e-06 0.000137465451641964\n",
       "Dnmt3a     -7.70785304903618 1.27951957004481e-14 1.50367244287117e-12\n",
       "St6galnac3 -3.10950270419331  0.00187402569076425   0.0223544493112592\n"
      ]
     },
     "metadata": {},
     "output_type": "display_data"
    }
   ],
   "source": [
    "%%R\n",
    "group_1 = \"SKG_low\"\n",
    "group_2 = \"SKG_high\"\n",
    "groups <- c(group_1, group_2)\n",
    "file_path = paste(\"results/bulk_RNA_seq/data_S1_diff_exp_\",group_1,\"_\",group_2,\".csv\", sep = \"\")\n",
    "\n",
    "\n",
    "print(dim(dds))\n",
    "keep <- which(dds$subgroup %in% groups)\n",
    "dds_subset <- dds[,keep]\n",
    "print(dim(dds_subset))\n",
    "\n",
    "dds_subset$subgroup <- factor(dds_subset$subgroup, levels = c(\"SKG_low\",\"SKG_high\"))\n",
    "dds_subset$mouse <- factor(dds_subset$mouse)\n",
    "\n",
    "print(dds_subset)\n",
    "design(dds_subset) <- ~mouse + gfp\n",
    "dds_subset <- DESeq(dds_subset)\n",
    "res <- results(dds_subset)\n",
    "\n",
    "print(dim(res))\n",
    "res_sig <- res[which((res$padj < 0.05)&(abs(res$log2FoldChange) > 1)),]\n",
    "print(dim(res_sig))\n",
    "print(dim(res_sig[which(res_sig$log2FoldChange > 0),]))\n",
    "print(dim(res_sig[which(res_sig$log2FoldChange < 0),]))\n",
    "print(res_sig)\n",
    "write.csv(res,file_path)"
   ]
  },
  {
   "cell_type": "code",
   "execution_count": 99,
   "metadata": {},
   "outputs": [
    {
     "data": {
      "text/plain": [
       "[1] 14123    12\n",
       "[1] 14123     6\n",
       "class: DESeqDataSet \n",
       "dim: 14123 6 \n",
       "metadata(1): version\n",
       "assays(1): counts\n",
       "rownames(14123): Itm2a Sergef ... Pxmp4 Prss39\n",
       "rowData names(0):\n",
       "colnames(6): X4a X5a ... X5b X6b\n",
       "colData names(4): mouse genotype gfp subgroup\n",
       "[1] 14123     6\n",
       "[1] 461   6\n",
       "[1] 136   6\n",
       "[1] 325   6\n",
       "log2 fold change (MLE): gfp Low vs High \n",
       "Wald test p-value: gfp Low vs High \n",
       "DataFrame with 461 rows and 6 columns\n",
       "                   baseMean    log2FoldChange              lfcSE\n",
       "                  <numeric>         <numeric>          <numeric>\n",
       "Itm2a      2097.61474919143 -1.59182124305905 0.0872422488276478\n",
       "Ptgr1      37.8027692799148 -1.25343437838125  0.475400275706696\n",
       "Kit        57.3237424694383 -1.10228652170411  0.367641189964411\n",
       "Gata1      165.500293653529 -1.06779213300682  0.239353654424779\n",
       "Gprc5b     119.675311572389 -2.03861315045802  0.274101537061635\n",
       "...                     ...               ...                ...\n",
       "Cyp4f18    17.7777674921788 -2.22875901882119  0.728936975503483\n",
       "Syp        71.7512998513845 -2.70728289032278   0.36027320463733\n",
       "Crip1      1261.66263940415  1.43983831235068 0.0983062956787214\n",
       "Dnmt3a     2246.79714045626 -1.18629792976676 0.0809283430030534\n",
       "St6galnac3 22.8325534287948 -3.38577313781182  0.703344236785558\n",
       "                        stat               pvalue                 padj\n",
       "                   <numeric>            <numeric>            <numeric>\n",
       "Itm2a      -18.2459904971476 2.22664068586726e-74 1.34520906579038e-71\n",
       "Ptgr1      -2.63658740314777   0.0083744622852261   0.0478530058192439\n",
       "Kit         -2.9982672012644  0.00271519504854892   0.0193962159802591\n",
       "Gata1      -4.46114823512081 8.15216740513067e-06 0.000123126842701063\n",
       "Gprc5b     -7.43743786449333 1.02656842346105e-13 5.38184859026873e-12\n",
       "...                      ...                  ...                  ...\n",
       "Cyp4f18    -3.05754693988704  0.00223156687800196   0.0166149583223069\n",
       "Syp        -7.51452746270174 5.71168587879774e-14   3.083581223162e-12\n",
       "Crip1       14.6464506917875 1.41939065000478e-48   5.296414463709e-46\n",
       "Dnmt3a     -14.6586212660007 1.18657954262362e-48 4.56185898705026e-46\n",
       "St6galnac3 -4.81382083016073 1.48071574647429e-06 2.59831821238164e-05\n"
      ]
     },
     "metadata": {},
     "output_type": "display_data"
    }
   ],
   "source": [
    "%%R\n",
    "group_1 = \"WT_low\"\n",
    "group_2 = \"WT_high\"\n",
    "groups <- c(group_1, group_2)\n",
    "file_path = paste(\"results/bulk_RNA_seq/data_S1_diff_exp_\",group_1,\"_\",group_2,\".csv\", sep = \"\")\n",
    "\n",
    "\n",
    "print(dim(dds))\n",
    "keep <- which(dds$subgroup %in% groups)\n",
    "dds_subset <- dds[,keep]\n",
    "print(dim(dds_subset))\n",
    "\n",
    "dds_subset$subgroup <- factor(dds_subset$subgroup, levels = c(\"SKG_low\",\"SKG_high\"))\n",
    "dds_subset$mouse <- factor(dds_subset$mouse)\n",
    "\n",
    "print(dds_subset)\n",
    "design(dds_subset) <- ~mouse + gfp\n",
    "dds_subset <- DESeq(dds_subset)\n",
    "res <- results(dds_subset)\n",
    "\n",
    "print(dim(res))\n",
    "res_sig <- res[which((res$padj < 0.05)&(abs(res$log2FoldChange) > 1)),]\n",
    "print(dim(res_sig))\n",
    "print(dim(res_sig[which(res_sig$log2FoldChange > 0),]))\n",
    "print(dim(res_sig[which(res_sig$log2FoldChange < 0),]))\n",
    "print(res_sig)\n",
    "\n",
    "write.csv(res,file_path)"
   ]
  },
  {
   "cell_type": "code",
   "execution_count": 100,
   "metadata": {},
   "outputs": [
    {
     "data": {
      "text/plain": [
       "[1] 14123    12\n",
       "[1] 14123     6\n",
       "class: DESeqDataSet \n",
       "dim: 14123 6 \n",
       "metadata(1): version\n",
       "assays(1): counts\n",
       "rownames(14123): Itm2a Sergef ... Pxmp4 Prss39\n",
       "rowData names(0):\n",
       "colnames(6): X1b X2b ... X5b X6b\n",
       "colData names(4): mouse genotype gfp subgroup\n",
       "[1] 14123     6\n",
       "[1] 260   6\n",
       "[1] 56  6\n",
       "[1] 204   6\n",
       "log2 fold change (MLE): genotype WT vs SKG \n",
       "Wald test p-value: genotype WT vs SKG \n",
       "DataFrame with 260 rows and 6 columns\n",
       "                 baseMean    log2FoldChange             lfcSE              stat\n",
       "                <numeric>         <numeric>         <numeric>         <numeric>\n",
       "Ptgir    288.558602218788  1.50360982572801 0.239237160093533  6.28501786737545\n",
       "Il2ra    545.439715732894 -1.19451594930009 0.167190156326826 -7.14465477838915\n",
       "AK148204 15.4659371855576 -7.31503488173265  1.43009076411705 -5.11508434658623\n",
       "Gpr55    63.4010439887903 -1.90208839563174 0.459782907741804  -4.1369271532379\n",
       "Cst7      267.37298804126 -1.09445940871116 0.215711396762772 -5.07372083782292\n",
       "...                   ...               ...               ...               ...\n",
       "AK190531 131.988627777034  1.43827542300956 0.352136641314798  4.08442420998669\n",
       "Spsb1    1175.82501561653 -1.07880372859072 0.115517759577496 -9.33885605586904\n",
       "Ptprf    315.775874496345  1.14771415994229 0.296672204372912  3.86862720209418\n",
       "Wnt10a   15.1765754343695 -2.63633566695496 0.888220502570585 -2.96810944954004\n",
       "C1qtnf6  52.8411209493993  -1.9535282271131 0.548633774575756 -3.56071448321554\n",
       "                       pvalue                 padj\n",
       "                    <numeric>            <numeric>\n",
       "Ptgir    3.27815987277203e-10 4.43025094805846e-08\n",
       "Il2ra    9.02223459084126e-13 1.85995659878648e-10\n",
       "AK148204 3.13600790424122e-07 2.29778699634253e-05\n",
       "Gpr55    3.51987793490679e-05   0.0013295737677724\n",
       "Cst7     3.90111250719762e-07  2.7837147909216e-05\n",
       "...                       ...                  ...\n",
       "AK190531 4.41862450068552e-05  0.00160211535801723\n",
       "Spsb1     9.7380516616796e-21 4.38681193929663e-18\n",
       "Ptprf    0.000109449833865522  0.00330332091639292\n",
       "Wnt10a    0.00299637614932197   0.0430282445149978\n",
       "C1qtnf6  0.000369847067614244  0.00856325021804547\n"
      ]
     },
     "metadata": {},
     "output_type": "display_data"
    }
   ],
   "source": [
    "%%R\n",
    "group_1 = \"WT_high\"\n",
    "group_2 = \"SKG_high\"\n",
    "groups <- c(group_1, group_2)\n",
    "file_path = paste(\"results/bulk_RNA_seq/data_S1_diff_exp_\",group_1,\"_\",group_2,\".csv\", sep = \"\")\n",
    "\n",
    "\n",
    "print(dim(dds))\n",
    "keep <- which(dds$subgroup %in% groups)\n",
    "dds_subset <- dds[,keep]\n",
    "print(dim(dds_subset))\n",
    "\n",
    "dds_subset$subgroup <- factor(dds_subset$subgroup, levels = c(group_1,group_2))\n",
    "dds_subset$mouse <- factor(dds_subset$mouse)\n",
    "dds_subset$genotype <- factor(dds_subset$genotype)\n",
    "\n",
    "print(dds_subset)\n",
    "design(dds_subset) <- ~genotype\n",
    "dds_subset <- DESeq(dds_subset)\n",
    "res <- results(dds_subset)\n",
    "\n",
    "print(dim(res))\n",
    "res_sig <- res[which((res$padj < 0.05)&(abs(res$log2FoldChange) > 1)),]\n",
    "print(dim(res_sig))\n",
    "print(dim(res_sig[which(res_sig$log2FoldChange > 0),]))\n",
    "print(dim(res_sig[which(res_sig$log2FoldChange < 0),]))\n",
    "print(res_sig)\n",
    "write.csv(res,file_path)"
   ]
  },
  {
   "cell_type": "code",
   "execution_count": 101,
   "metadata": {},
   "outputs": [
    {
     "data": {
      "text/plain": [
       "[1] 14123    12\n",
       "[1] 14123     6\n",
       "class: DESeqDataSet \n",
       "dim: 14123 6 \n",
       "metadata(1): version\n",
       "assays(1): counts\n",
       "rownames(14123): Itm2a Sergef ... Pxmp4 Prss39\n",
       "rowData names(0):\n",
       "colnames(6): X1a X2a ... X5a X6a\n",
       "colData names(4): mouse genotype gfp subgroup\n",
       "[1] 14123     6\n",
       "[1] 355   6\n",
       "[1] 169   6\n",
       "[1] 186   6\n",
       "log2 fold change (MLE): genotype WT vs SKG \n",
       "Wald test p-value: genotype WT vs SKG \n",
       "DataFrame with 355 rows and 6 columns\n",
       "                baseMean    log2FoldChange              lfcSE              stat\n",
       "               <numeric>         <numeric>          <numeric>         <numeric>\n",
       "Tmem180 40.0157955203632 -1.50321244049302  0.447267626866765 -3.36087914751051\n",
       "Ptgir    42.181203545644  2.54934413260872  0.462393861856502  5.51336067129688\n",
       "Il2ra   346.362107400699 -3.27676606929327  0.226443298031762 -14.4705809258866\n",
       "Ccdc28b 170.693749221527 -1.04974862971963  0.229872335535981 -4.56665926011491\n",
       "Haao    79.7042040555802  3.62287284533807  0.464838643799013  7.79382887732657\n",
       "...                  ...               ...                ...               ...\n",
       "Aqp3    193.298395804842  1.17004309408273   0.22322715366533  5.24149089781837\n",
       "Spsb1    1776.2677915552 -1.41032750376392 0.0997715971093232 -14.1355610677313\n",
       "Ahnak   6177.59532150383  1.00560781419756  0.117479809149505  8.55983527278136\n",
       "E2f2    2319.58173244203 -1.19231519960788 0.0950854586492988 -12.5394063040224\n",
       "Clec2g  7.80466210203448  5.41675432365113   1.47183190678022   3.6802805393048\n",
       "                      pvalue                 padj\n",
       "                   <numeric>            <numeric>\n",
       "Tmem180 0.000776948130210192    0.013232147537188\n",
       "Ptgir   3.52045749900368e-08 1.67965221324306e-06\n",
       "Il2ra   1.85895458802484e-47 9.82717753413451e-45\n",
       "Ccdc28b  4.9555856429638e-06  0.00016346504574352\n",
       "Haao    6.50085739031394e-15 6.50555133569155e-13\n",
       "...                      ...                  ...\n",
       "Aqp3    1.59284335803326e-07 6.68286279992619e-06\n",
       "Spsb1   2.29299143733071e-45 1.12237684576899e-42\n",
       "Ahnak   1.13028902070105e-17 1.42265711405572e-15\n",
       "E2f2    4.54386886135347e-36 1.81975063247416e-33\n",
       "Clec2g  0.000232977496478073  0.00484886707630584\n"
      ]
     },
     "metadata": {},
     "output_type": "display_data"
    }
   ],
   "source": [
    "%%R\n",
    "group_1 = \"WT_low\"\n",
    "group_2 = \"SKG_low\"\n",
    "groups <- c(group_1, group_2)\n",
    "file_path = paste(\"results/bulk_RNA_seq/data_S1_diff_exp_\",group_1,\"_\",group_2,\".csv\", sep = \"\")\n",
    "\n",
    "\n",
    "print(dim(dds))\n",
    "keep <- which(dds$subgroup %in% groups)\n",
    "dds_subset <- dds[,keep]\n",
    "print(dim(dds_subset))\n",
    "\n",
    "dds_subset$subgroup <- factor(dds_subset$subgroup, levels = c(group_1,group_2))\n",
    "dds_subset$mouse <- factor(dds_subset$mouse)\n",
    "dds_subset$genotype <- factor(dds_subset$genotype)\n",
    "\n",
    "print(dds_subset)\n",
    "design(dds_subset) <- ~genotype\n",
    "dds_subset <- DESeq(dds_subset)\n",
    "res <- results(dds_subset)\n",
    "\n",
    "print(dim(res))\n",
    "res_sig <- res[which((res$padj < 0.05)&(abs(res$log2FoldChange) > 1)),]\n",
    "print(dim(res_sig))\n",
    "print(dim(res_sig[which(res_sig$log2FoldChange > 0),]))\n",
    "print(dim(res_sig[which(res_sig$log2FoldChange < 0),]))\n",
    "print(res_sig)\n",
    "write.csv(res,file_path)"
   ]
  },
  {
   "cell_type": "markdown",
   "metadata": {},
   "source": [
    "# Heatmap"
   ]
  },
  {
   "cell_type": "markdown",
   "metadata": {},
   "source": [
    "Create Heatmap"
   ]
  },
  {
   "cell_type": "code",
   "execution_count": 36,
   "metadata": {},
   "outputs": [],
   "source": [
    "%%R\n",
    "library(\"pheatmap\")\n",
    "library(VennDiagram)"
   ]
  },
  {
   "cell_type": "code",
   "execution_count": 39,
   "metadata": {},
   "outputs": [
    {
     "data": {
      "text/plain": [
       "[1] 544   7\n",
       "         X   baseMean log2FoldChange     lfcSE      stat       pvalue\n",
       "70     Kit   66.12169      -2.535396 0.6050225 -4.190582 2.782398e-05\n",
       "128 Gprc5b  107.93416      -1.966593 0.4481321 -4.388422 1.141762e-05\n",
       "140   Rgl1   12.68892      -5.107472 1.6610269 -3.074888 2.105815e-03\n",
       "237  Ptgir   81.63826      -3.589223 0.5409572 -6.634950 3.246135e-11\n",
       "259  Cers6 1400.93702       1.077378 0.1364299  7.896938 2.858374e-15\n",
       "272  Mcm10   42.70626      -3.766020 0.8885950 -4.238174 2.253451e-05\n",
       "            padj\n",
       "70  6.217288e-04\n",
       "128 2.813833e-04\n",
       "140 2.446476e-02\n",
       "237 2.423526e-09\n",
       "259 3.556714e-13\n",
       "272 5.116423e-04\n"
      ]
     },
     "metadata": {},
     "output_type": "display_data"
    }
   ],
   "source": [
    "%%R\n",
    "group_1 = \"SKG_low\"\n",
    "group_2 = \"SKG_high\"\n",
    "file_path = paste(\"results/bulk_RNA_seq/data_S1_diff_exp_\",group_1,\"_\",group_2,\".csv\", sep = \"\")\n",
    "res <- read.csv(file_path, header = TRUE, sep = \",\")\n",
    "res_sig <- res[which((res$padj < 0.05)&(abs(res$log2FoldChange) > 1)),]\n",
    "print(dim(res_sig))\n",
    "print(head(res_sig))\n",
    "res_sig_1 <- res_sig"
   ]
  },
  {
   "cell_type": "code",
   "execution_count": 40,
   "metadata": {},
   "outputs": [
    {
     "data": {
      "text/plain": [
       "[1] 461   7\n",
       "         X   baseMean log2FoldChange      lfcSE       stat       pvalue\n",
       "1    Itm2a 2097.61475      -1.591821 0.08724225 -18.245990 2.226641e-74\n",
       "19   Ptgr1   37.80277      -1.253434 0.47540028  -2.636587 8.374462e-03\n",
       "70     Kit   57.32374      -1.102287 0.36764119  -2.998267 2.715195e-03\n",
       "71   Gata1  165.50029      -1.067792 0.23935365  -4.461148 8.152167e-06\n",
       "128 Gprc5b  119.67531      -2.038613 0.27410154  -7.437438 1.026568e-13\n",
       "140   Rgl1   13.51920      -2.117039 0.79359597  -2.667654 7.638294e-03\n",
       "            padj\n",
       "1   1.345209e-71\n",
       "19  4.785301e-02\n",
       "70  1.939622e-02\n",
       "71  1.231268e-04\n",
       "128 5.381849e-12\n",
       "140 4.449359e-02\n"
      ]
     },
     "metadata": {},
     "output_type": "display_data"
    }
   ],
   "source": [
    "%%R\n",
    "group_1 = \"WT_low\"\n",
    "group_2 = \"WT_high\"\n",
    "file_path = paste(\"results/bulk_RNA_seq/data_S1_diff_exp_\",group_1,\"_\",group_2,\".csv\", sep = \"\")\n",
    "res <- read.csv(file_path, header = TRUE, sep = \",\")\n",
    "res_sig <- res[which((res$padj < 0.05)&(abs(res$log2FoldChange) > 1)),]\n",
    "print(dim(res_sig))\n",
    "print(head(res_sig))\n",
    "res_sig_2 <- res_sig"
   ]
  },
  {
   "cell_type": "code",
   "execution_count": 41,
   "metadata": {},
   "outputs": [
    {
     "data": {
      "text/plain": [
       "[1] 260   7\n",
       "           X  baseMean log2FoldChange     lfcSE      stat       pvalue\n",
       "237    Ptgir 288.55860       1.503610 0.2392372  6.285018 3.278160e-10\n",
       "263    Il2ra 545.43972      -1.194516 0.1671902 -7.144655 9.022235e-13\n",
       "498 AK148204  15.46594      -7.315035 1.4300908 -5.115084 3.136008e-07\n",
       "798    Gpr55  63.40104      -1.902088 0.4597829 -4.136927 3.519878e-05\n",
       "800     Cst7 267.37299      -1.094459 0.2157114 -5.073721 3.901113e-07\n",
       "872   Armcx4 358.14252      -1.547198 0.3712887 -4.167102 3.084960e-05\n",
       "            padj\n",
       "237 4.430251e-08\n",
       "263 1.859957e-10\n",
       "498 2.297787e-05\n",
       "798 1.329574e-03\n",
       "800 2.783715e-05\n",
       "872 1.202640e-03\n"
      ]
     },
     "metadata": {},
     "output_type": "display_data"
    }
   ],
   "source": [
    "%%R \n",
    "group_1 = \"WT_high\"\n",
    "group_2 = \"SKG_high\"\n",
    "file_path = paste(\"results/bulk_RNA_seq/data_S1_diff_exp_\",group_1,\"_\",group_2,\".csv\", sep = \"\")\n",
    "res <- read.csv(file_path, header = TRUE, sep = \",\")\n",
    "res_sig <- res[which((res$padj < 0.05)&(abs(res$log2FoldChange) > 1)),]\n",
    "print(dim(res_sig))\n",
    "print(head(res_sig))\n",
    "res_sig_3 <- res_sig"
   ]
  },
  {
   "cell_type": "code",
   "execution_count": 42,
   "metadata": {},
   "outputs": [
    {
     "data": {
      "text/plain": [
       "[1] 355   7\n",
       "          X  baseMean log2FoldChange     lfcSE       stat       pvalue\n",
       "236 Tmem180   40.0158      -1.503212 0.4472676  -3.360879 7.769481e-04\n",
       "237   Ptgir   42.1812       2.549344 0.4623939   5.513361 3.520457e-08\n",
       "263   Il2ra  346.3621      -3.276766 0.2264433 -14.470581 1.858955e-47\n",
       "274 Ccdc28b  170.6937      -1.049749 0.2298723  -4.566659 4.955586e-06\n",
       "295    Haao   79.7042       3.622873 0.4648386   7.793829 6.500857e-15\n",
       "362   Ly6c2 1048.8417       4.337577 0.3750350  11.565794 6.142083e-31\n",
       "            padj\n",
       "236 1.323215e-02\n",
       "237 1.679652e-06\n",
       "263 9.827178e-45\n",
       "274 1.634650e-04\n",
       "295 6.505551e-13\n",
       "362 1.803862e-28\n"
      ]
     },
     "metadata": {},
     "output_type": "display_data"
    }
   ],
   "source": [
    "%%R\n",
    "group_1 = \"WT_low\"\n",
    "group_2 = \"SKG_low\"\n",
    "file_path = paste(\"results/bulk_RNA_seq/data_S1_diff_exp_\",group_1,\"_\",group_2,\".csv\", sep = \"\")\n",
    "res <- read.csv(file_path, header = TRUE, sep = \",\")\n",
    "res_sig <- res[which((res$padj < 0.05)&(abs(res$log2FoldChange) > 1)),]\n",
    "print(dim(res_sig))\n",
    "print(head(res_sig))\n",
    "res_sig_4 <- res_sig"
   ]
  },
  {
   "cell_type": "code",
   "execution_count": 43,
   "metadata": {},
   "outputs": [
    {
     "data": {
      "text/plain": [
       "[1] Kit    Gprc5b Rgl1   Ptgir  Cers6  Mcm10 \n",
       "14123 Levels: 0610007P14Rik 0610009B22Rik 0610009L18Rik ... Zzz3\n",
       "[1] 1620\n",
       "[1] 991\n",
       "[1] \"Kit\"    \"Gprc5b\" \"Rgl1\"   \"Ptgir\"  \"Cers6\"  \"Mcm10\" \n",
       "[1] \"Kit\"    \"Gprc5b\" \"Rgl1\"   \"Ptgir\"  \"Cers6\"  \"Mcm10\" \n",
       "[1] TRUE\n"
      ]
     },
     "metadata": {},
     "output_type": "display_data"
    }
   ],
   "source": [
    "%%R\n",
    "print(head(res_sig_1$X))\n",
    "res_genes <- c(as.character(res_sig_1$X),as.character(res_sig_2$X),as.character(res_sig_3$X),as.character(res_sig_4$X))\n",
    "print(length(res_genes))\n",
    "print(length(unique(res_genes)))\n",
    "print(head(res_genes))\n",
    "res_genes <- unique(res_genes)\n",
    "print(head(res_genes))\n",
    "\n",
    "print(\"Nr4a1\" %in% res_genes)"
   ]
  },
  {
   "cell_type": "code",
   "execution_count": 49,
   "metadata": {},
   "outputs": [
    {
     "data": {
      "image/png": "[encoded data removed]"
     },
     "metadata": {},
     "output_type": "display_data"
    }
   ],
   "source": [
    "%%R\n",
    "df <- as.data.frame(colData(dds)[,c(\"gfp\",\"genotype\")])\n",
    "\n",
    "\n",
    "ann_colors = list(\n",
    "    genotype = c(WT =\"#D3D3D3\",SKG = \"#696969\"),\n",
    "    gfp = c(Low = \"#90EE90\",High = \"#008000\")\n",
    "                )\n",
    "column_order <- c(\"X4a\",\"X5a\",\"X6a\",\"X4b\",\"X5b\",\"X6b\",\"X1a\",\"X2a\",\"X3a\",\"X1b\",\"X2b\",\"X3b\")\n",
    "\n",
    "out <- pheatmap(assay(vsd)[res_genes,column_order], cluster_rows=TRUE, show_rownames=TRUE,cluster_cols=FALSE, \n",
    "                annotation_col=df,\n",
    "                fontsize = 8,\n",
    "        cellwidth = 15,clustering_method = \"ward.D2\", annotation_colors = ann_colors,\n",
    "         color = colorRampPalette(c(\"navy\", \"white\", \"firebrick3\"))(50),scale = 'row'\n",
    "        )"
   ]
  },
  {
   "cell_type": "code",
   "execution_count": 90,
   "metadata": {},
   "outputs": [
    {
     "data": {
      "text/plain": [
       "[1] 991\n"
      ]
     },
     "metadata": {},
     "output_type": "display_data"
    }
   ],
   "source": [
    "%%R\n",
    "print(length(res_genes))"
   ]
  },
  {
   "cell_type": "markdown",
   "metadata": {},
   "source": [
    "Create modules"
   ]
  },
  {
   "cell_type": "code",
   "execution_count": 50,
   "metadata": {},
   "outputs": [
    {
     "data": {
      "image/png": "[encoded data removed]"
     },
     "metadata": {},
     "output_type": "display_data"
    }
   ],
   "source": [
    "%%R\n",
    "plot(out$tree_row)\n",
    "abline(h=25, col=\"red\", lty=2, lwd=2)"
   ]
  },
  {
   "cell_type": "code",
   "execution_count": 51,
   "metadata": {},
   "outputs": [
    {
     "data": {
      "text/plain": [
       "[1] 6\n",
       "[1] 199\n",
       "[1] 260\n",
       "[1] 189\n",
       "[1] 140\n",
       "[1] 118\n",
       "[1] 85\n"
      ]
     },
     "metadata": {},
     "output_type": "display_data"
    }
   ],
   "source": [
    "%%R -o clusters\n",
    "\n",
    "gene_clusters <- sort(cutree(out$tree_row, h=25))\n",
    "clusters = vector(mode = \"list\", length = length(unique(gene_clusters)))\n",
    "print(length(clusters))\n",
    "genes_to_plot <- c()\n",
    "for (i in c(1:length(unique(gene_clusters)))){\n",
    "   clusters[[i]] = names(gene_clusters[which(gene_clusters == i)]) \n",
    "    print(length(clusters[[i]]))\n",
    "   genes_to_plot <- c(genes_to_plot, clusters[[i]][1]) \n",
    "}"
   ]
  },
  {
   "cell_type": "markdown",
   "metadata": {},
   "source": [
    "Choosing colors. Note: See color map lists here: https://matplotlib.org/stable/tutorials/colors/colormaps.html"
   ]
  },
  {
   "cell_type": "code",
   "execution_count": 84,
   "metadata": {},
   "outputs": [
    {
     "name": "stdout",
     "output_type": "stream",
     "text": [
      "#7fc97f\n",
      "#beaed4\n",
      "#fdc086\n",
      "#ffff99\n",
      "#386cb0\n",
      "#f0027f\n",
      "#bf5b17\n",
      "#666666\n"
     ]
    }
   ],
   "source": [
    "from pylab import *\n",
    "\n",
    "cmap = cm.get_cmap('Accent', 8)    # PiYG\n",
    "\n",
    "for i in range(cmap.N):\n",
    "    rgba = cmap(i)\n",
    "    # rgb2hex accepts rgb or rgba\n",
    "    print(matplotlib.colors.rgb2hex(rgba))"
   ]
  },
  {
   "cell_type": "code",
   "execution_count": 85,
   "metadata": {},
   "outputs": [
    {
     "name": "stdout",
     "output_type": "stream",
     "text": [
      "#e41a1c\n",
      "#377eb8\n",
      "#4daf4a\n",
      "#984ea3\n",
      "#ffff33\n",
      "#a65628\n",
      "#f781bf\n",
      "#999999\n"
     ]
    }
   ],
   "source": [
    "from pylab import *\n",
    "\n",
    "cmap = cm.get_cmap('Set1', 8)    # PiYG\n",
    "\n",
    "for i in range(cmap.N):\n",
    "    rgba = cmap(i)\n",
    "    # rgb2hex accepts rgb or rgba\n",
    "    print(matplotlib.colors.rgb2hex(rgba))"
   ]
  },
  {
   "cell_type": "code",
   "execution_count": 52,
   "metadata": {},
   "outputs": [],
   "source": [
    "%%R\n",
    "res_genes_category <- vector(length = length(res_genes))\n",
    "module_colors_list <- vector(length = length(res_genes))\n",
    "module_numbers <- vector(length = length(res_genes))\n",
    "module_colors = c( \"#984EA3\",\n",
    "   \"#F781BF\",\n",
    "   \"#386CB0\",\n",
    "    \"#F0027F\",\n",
    "   \"#BF5B17\",\n",
    "    \"#FDC086\")\n",
    "names(module_colors) <- c(\"Module 1\", \"Module 2\",\"Module 3\",\"Module 4\",\"Module 5\",\"Module 6\")\n",
    "for (i in 1:length(res_genes)){\n",
    "    j = 1\n",
    "    for (cluster in clusters){\n",
    "        if (res_genes[i] %in% cluster){\n",
    "            module_numbers[i] = j\n",
    "            res_genes_category[i] = paste(\"Module\", as.character(j))\n",
    "            module_colors_list[i] = module_colors[j]\n",
    "            break\n",
    "        }\n",
    "        j = j +1\n",
    "    }\n",
    "}"
   ]
  },
  {
   "cell_type": "code",
   "execution_count": 53,
   "metadata": {},
   "outputs": [
    {
     "data": {
      "image/png": "[encoded data removed]"
     },
     "metadata": {},
     "output_type": "display_data"
    }
   ],
   "source": [
    "%%R\n",
    "df <- as.data.frame(colData(dds)[,c(\"gfp\",\"genotype\")])\n",
    "\n",
    "annotdf <- data.frame(row.names = res_genes, category = res_genes_category )\n",
    "\n",
    "# ann_colors = list(\n",
    "#     genotype = c(WT =\"#30D5C8\",SKG = \"#FFA500\"),\n",
    "#     gfp = c(Low = \"#FFDF00\",High = \"#B3DE69\")\n",
    "    \n",
    "#                 )\n",
    "ann_colors = list(\n",
    "    genotype = c(WT =\"#D3D3D3\",SKG = \"#696969\"),\n",
    "    gfp = c(Low = \"#90EE90\",High = \"#008000\"),\n",
    "    category = module_colors\n",
    "                )\n",
    "column_order <- c(\"X4a\",\"X5a\",\"X6a\",\"X4b\",\"X5b\",\"X6b\",\"X1a\",\"X2a\",\"X3a\",\"X1b\",\"X2b\",\"X3b\")\n",
    "\n",
    "out <- pheatmap(assay(vsd)[res_genes,column_order], cluster_rows=TRUE, show_rownames=TRUE,cluster_cols=FALSE, \n",
    "                annotation_col=df, annotation_row= annotdf,\n",
    "                cutree_rows = 6, fontsize = 8,\n",
    "        cellwidth = 15,clustering_method = \"ward.D2\", annotation_colors = ann_colors,\n",
    "         color = colorRampPalette(c(\"navy\", \"white\", \"firebrick3\"))(50),scale = 'row'\n",
    "        )"
   ]
  },
  {
   "cell_type": "code",
   "execution_count": 83,
   "metadata": {},
   "outputs": [
    {
     "data": {
      "text/plain": [
       "[1] \"Il9r\"           \"H2A\"            \"9030025P20Rik\"  \"Cish\"          \n",
       "[5] \"1700047I17Rik2\" \"Ceacam2\"       \n"
      ]
     },
     "metadata": {},
     "output_type": "display_data"
    }
   ],
   "source": [
    "%%R\n",
    "heatmap <- out$gtable\n",
    "new.label <- heatmap$grobs[[which(heatmap$layout$name == \"row_names\")]] \n",
    "print(head(new.label$label))\n",
    "new_label_numbers <- vector(length = length(new.label$label))\n",
    "for (i in 1:length(new.label$label)){\n",
    "    j = 1\n",
    "    for (cluster in clusters){\n",
    "        if (new.label$label[i] %in% cluster){\n",
    "            new_label_numbers[i] = j\n",
    "            break\n",
    "        }\n",
    "        j = j +1\n",
    "    }\n",
    "}\n",
    "\n",
    "\n",
    "res_gene_df = data.frame(new.label$label,new_label_numbers)\n",
    "colnames(res_gene_df) <- c(\"gene\", \"module\")\n",
    "write.csv(res_gene_df, \"results/bulk_RNA_seq/data_S2_heatmap_gene_list_with_modules.csv\", row.names = FALSE)"
   ]
  },
  {
   "cell_type": "markdown",
   "metadata": {},
   "source": [
    "Adjust labels"
   ]
  },
  {
   "cell_type": "code",
   "execution_count": 56,
   "metadata": {},
   "outputs": [],
   "source": [
    "%%R\n",
    "add.flag <- function(pheatmap,\n",
    "                     kept.labels,\n",
    "                     repel.degree) {\n",
    "\n",
    "  # repel.degree = number within [0, 1], which controls how much \n",
    "  #                space to allocate for repelling labels.\n",
    "  ## repel.degree = 0: spread out labels over existing range of kept labels\n",
    "  ## repel.degree = 1: spread out labels over the full y-axis\n",
    "\n",
    "  heatmap <- pheatmap$gtable\n",
    "\n",
    "  new.label <- heatmap$grobs[[which(heatmap$layout$name == \"row_names\")]] \n",
    "\n",
    "  # keep only labels in kept.labels, replace the rest with \"\"\n",
    "  new.label$label <- ifelse(new.label$label %in% kept.labels, \n",
    "                            new.label$label, \"\")\n",
    "\n",
    "  # calculate evenly spaced out y-axis positions\n",
    "  repelled.y <- function(d, d.select, k = repel.degree){\n",
    "    # d = vector of distances for labels\n",
    "    # d.select = vector of T/F for which labels are significant\n",
    "\n",
    "    # recursive function to get current label positions\n",
    "    # (note the unit is \"npc\" for all components of each distance)\n",
    "    strip.npc <- function(dd){\n",
    "      if(!\"unit.arithmetic\" %in% class(dd)) {\n",
    "        return(as.numeric(dd))\n",
    "      }\n",
    "\n",
    "      d1 <- strip.npc(dd$arg1)\n",
    "      d2 <- strip.npc(dd$arg2)\n",
    "      fn <- dd$fname\n",
    "      return(lazyeval::lazy_eval(paste(d1, fn, d2)))\n",
    "    }\n",
    "\n",
    "    full.range <- sapply(seq_along(d), function(i) strip.npc(d[i]))\n",
    "    selected.range <- sapply(seq_along(d[d.select]), function(i) strip.npc(d[d.select][i]))\n",
    "\n",
    "    return(unit(seq(from = 1 + k*(max(full.range) - max(selected.range)),\n",
    "                    to = 0 - k*(min(selected.range) - min(full.range)), \n",
    "                    length.out = sum(d.select)), \n",
    "                \"npc\"))\n",
    "  }\n",
    "  new.y.positions <- repelled.y(new.label$y,\n",
    "                                d.select = new.label$label != \"\")\n",
    "  new.flag <- segmentsGrob(x0 = new.label$x,\n",
    "                           x1 = new.label$x + unit(0.15, \"npc\"), #x1 = new.label$x + unit(0.15, \"npc\"),\n",
    "                           y0 = new.label$y[new.label$label != \"\"],\n",
    "                           y1 = new.y.positions)\n",
    "\n",
    "  # shift position for selected labels\n",
    "  new.label$x <- new.label$x + unit(0.2, \"npc\") #0.2\n",
    "  new.label$y[new.label$label != \"\"] <- new.y.positions\n",
    "\n",
    "  #add flag to heatmap\n",
    "  heatmap <- gtable::gtable_add_grob(x = heatmap,\n",
    "                                   grobs = new.flag,\n",
    "                                   t = 4, \n",
    "                                   l = 4\n",
    "  )\n",
    "\n",
    "  # replace label positions in heatmap\n",
    "  heatmap$grobs[[which(heatmap$layout$name == \"row_names\")]] <- new.label\n",
    "\n",
    "  # plot result\n",
    "  grid.newpage()\n",
    "  grid.draw(heatmap)\n",
    "\n",
    "  # return a copy of the heatmap invisibly\n",
    "  invisible(heatmap)\n",
    "}"
   ]
  },
  {
   "cell_type": "code",
   "execution_count": 58,
   "metadata": {},
   "outputs": [
    {
     "data": {
      "text/plain": [
       "[1] Cdkn2c Cdca3  Tacc3  Foxp3  Ctla4  Tigit \n",
       "52 Levels: Ccr4 Ccr6 Cd5 Cdca3 Cdkn2c Ctla4 Cxcr3 Cxcr4 Cxcr5 Dtx1 ... Vav2\n"
      ]
     },
     "metadata": {},
     "output_type": "display_data"
    }
   ],
   "source": [
    "%%R\n",
    "file_path = \"results/bulk_RNA_seq/Gene_list_for_heatmap_2021_02_v1_orig.csv\"\n",
    "gene_list <- read.csv(file_path, header = FALSE, sep = \",\")\n",
    "head(gene_list$V1)\n"
   ]
  },
  {
   "cell_type": "code",
   "execution_count": 59,
   "metadata": {},
   "outputs": [],
   "source": [
    "%%R\n",
    "gene_list$module <- NA\n",
    "for (i in 1:nrow(gene_list)){\n",
    "    j = 1\n",
    "    for (cluster in clusters){\n",
    "        if (gene_list$V1[i] %in% cluster){\n",
    "            gene_list$module[i] = j\n",
    "            break\n",
    "        }\n",
    "        j = j +1\n",
    "    }\n",
    "}"
   ]
  },
  {
   "cell_type": "code",
   "execution_count": 89,
   "metadata": {},
   "outputs": [],
   "source": [
    "%%R\n",
    "write.csv(gene_list, \"results/bulk_RNA_seq/Gene_list_for_heatmap_2021_02_v1.csv\", row.names = FALSE)"
   ]
  },
  {
   "cell_type": "code",
   "execution_count": 86,
   "metadata": {},
   "outputs": [
    {
     "data": {
      "text/plain": [
       "png \n",
       "  2 \n"
      ]
     },
     "metadata": {},
     "output_type": "display_data"
    }
   ],
   "source": [
    "%%R\n",
    "#setEPS()\n",
    "#heatmap_width=6\n",
    "#heatmap_height=6\n",
    "#heatmap_save = 'results/bulk_RNA_seq/summary_heatmap_clustered_new_labels_08102021.eps'\n",
    "genes = gene_list$V1\n",
    "#postscript(file = heatmap_save, width = heatmap_width, height = heatmap_height)\n",
    "add.flag(out,\n",
    "         kept.labels = genes,\n",
    "         repel.degree = 0)\n",
    "#dev.off()"
   ]
  },
  {
   "cell_type": "code",
   "execution_count": 88,
   "metadata": {},
   "outputs": [
    {
     "data": {
      "image/png": "[encoded data removed]"
     },
     "metadata": {},
     "output_type": "display_data"
    }
   ],
   "source": [
    "%%R\n",
    "add.flag(out,\n",
    "         kept.labels = genes,\n",
    "         repel.degree = 0)"
   ]
  },
  {
   "cell_type": "markdown",
   "metadata": {},
   "source": [
    "# GO Plot"
   ]
  },
  {
   "cell_type": "code",
   "execution_count": 102,
   "metadata": {},
   "outputs": [],
   "source": [
    "modules = pd.read_csv('results/bulk_RNA_seq/dotplot_FEA_pathways_for_gene_modules.csv')"
   ]
  },
  {
   "cell_type": "code",
   "execution_count": 103,
   "metadata": {},
   "outputs": [
    {
     "data": {
      "text/html": [
       "<div>\n",
       "<style scoped>\n",
       "    .dataframe tbody tr th:only-of-type {\n",
       "        vertical-align: middle;\n",
       "    }\n",
       "\n",
       "    .dataframe tbody tr th {\n",
       "        vertical-align: top;\n",
       "    }\n",
       "\n",
       "    .dataframe thead th {\n",
       "        text-align: right;\n",
       "    }\n",
       "</style>\n",
       "<table border=\"1\" class=\"dataframe\">\n",
       "  <thead>\n",
       "    <tr style=\"text-align: right;\">\n",
       "      <th></th>\n",
       "      <th>Module</th>\n",
       "      <th>source</th>\n",
       "      <th>x_pos</th>\n",
       "      <th>y_pos</th>\n",
       "      <th>pathway_name</th>\n",
       "      <th>term_name</th>\n",
       "      <th>term_id</th>\n",
       "      <th>adjusted_p_value</th>\n",
       "      <th>negative_log10_of_adjusted_p_value</th>\n",
       "      <th>term_size</th>\n",
       "      <th>query_size</th>\n",
       "      <th>intersection_size</th>\n",
       "      <th>effective_domain_size</th>\n",
       "      <th>intersections</th>\n",
       "    </tr>\n",
       "  </thead>\n",
       "  <tbody>\n",
       "    <tr>\n",
       "      <th>0</th>\n",
       "      <td>1</td>\n",
       "      <td>gProfiler</td>\n",
       "      <td>1</td>\n",
       "      <td>32</td>\n",
       "      <td>Mitotic Cell Cycle Process</td>\n",
       "      <td>mitotic cell cycle process</td>\n",
       "      <td>GO:1903047</td>\n",
       "      <td>2.960000e-38</td>\n",
       "      <td>37.528657</td>\n",
       "      <td>676</td>\n",
       "      <td>170</td>\n",
       "      <td>56</td>\n",
       "      <td>21354</td>\n",
       "      <td>CDKN2C,TACC3,STIL,AURKB,KIF2C,CDCA8,TPX2,CENPE...</td>\n",
       "    </tr>\n",
       "    <tr>\n",
       "      <th>1</th>\n",
       "      <td>1</td>\n",
       "      <td>gProfiler</td>\n",
       "      <td>1</td>\n",
       "      <td>31</td>\n",
       "      <td>Regulation of Cell Cycle</td>\n",
       "      <td>regulation of cell cycle</td>\n",
       "      <td>GO:0051726</td>\n",
       "      <td>9.040000e-19</td>\n",
       "      <td>18.044056</td>\n",
       "      <td>992</td>\n",
       "      <td>170</td>\n",
       "      <td>45</td>\n",
       "      <td>21354</td>\n",
       "      <td>CDKN2C,FAM83D,STIL,FIGNL1,AURKB,TPX2,CENPE,CEN...</td>\n",
       "    </tr>\n",
       "    <tr>\n",
       "      <th>2</th>\n",
       "      <td>1</td>\n",
       "      <td>gProfiler</td>\n",
       "      <td>1</td>\n",
       "      <td>30</td>\n",
       "      <td>Cytoskeleton Organization</td>\n",
       "      <td>cytoskeleton organization</td>\n",
       "      <td>GO:0007010</td>\n",
       "      <td>1.880000e-09</td>\n",
       "      <td>8.726290</td>\n",
       "      <td>1406</td>\n",
       "      <td>170</td>\n",
       "      <td>40</td>\n",
       "      <td>21354</td>\n",
       "      <td>TYROBP,RHOQ,TTN,TACC3,SKA3,STIL,FIGNL1,AURKB,K...</td>\n",
       "    </tr>\n",
       "    <tr>\n",
       "      <th>3</th>\n",
       "      <td>1</td>\n",
       "      <td>gProfiler</td>\n",
       "      <td>1</td>\n",
       "      <td>29</td>\n",
       "      <td>Leukocyte Activation</td>\n",
       "      <td>leukocyte activation</td>\n",
       "      <td>GO:0045321</td>\n",
       "      <td>2.686381e-02</td>\n",
       "      <td>1.570832</td>\n",
       "      <td>996</td>\n",
       "      <td>170</td>\n",
       "      <td>22</td>\n",
       "      <td>21354</td>\n",
       "      <td>FCER1G,TYROBP,H2-OA,CD86,EBI3,IL1RL1,CD38,ZBTB...</td>\n",
       "    </tr>\n",
       "    <tr>\n",
       "      <th>4</th>\n",
       "      <td>1</td>\n",
       "      <td>gProfiler</td>\n",
       "      <td>1</td>\n",
       "      <td>28</td>\n",
       "      <td>T Cell Activation</td>\n",
       "      <td>T cell activation</td>\n",
       "      <td>GO:0042110</td>\n",
       "      <td>2.294174e-02</td>\n",
       "      <td>1.639374</td>\n",
       "      <td>502</td>\n",
       "      <td>170</td>\n",
       "      <td>15</td>\n",
       "      <td>21354</td>\n",
       "      <td>FCER1G,H2-OA,CD86,EBI3,ZBTB32,TIGIT,CTLA4,ICOS...</td>\n",
       "    </tr>\n",
       "    <tr>\n",
       "      <th>5</th>\n",
       "      <td>2</td>\n",
       "      <td>gProfiler</td>\n",
       "      <td>2</td>\n",
       "      <td>27</td>\n",
       "      <td>Cell Adhesion</td>\n",
       "      <td>cell adhesion</td>\n",
       "      <td>GO:0007155</td>\n",
       "      <td>1.350000e-08</td>\n",
       "      <td>7.871082</td>\n",
       "      <td>1377</td>\n",
       "      <td>215</td>\n",
       "      <td>44</td>\n",
       "      <td>21354</td>\n",
       "      <td>TNFSF11,ITGA9,SWAP70,GATA1,DLG4,EMILIN1,ALCAM,...</td>\n",
       "    </tr>\n",
       "    <tr>\n",
       "      <th>6</th>\n",
       "      <td>2</td>\n",
       "      <td>gProfiler</td>\n",
       "      <td>2</td>\n",
       "      <td>26</td>\n",
       "      <td>Cell Activation</td>\n",
       "      <td>cell activation</td>\n",
       "      <td>GO:0001775</td>\n",
       "      <td>1.250000e-06</td>\n",
       "      <td>5.903550</td>\n",
       "      <td>1118</td>\n",
       "      <td>215</td>\n",
       "      <td>36</td>\n",
       "      <td>21354</td>\n",
       "      <td>TNFSF11,SWAP70,GATA1,NDRG1,EMILIN1,CAMK2B,NTN1...</td>\n",
       "    </tr>\n",
       "    <tr>\n",
       "      <th>7</th>\n",
       "      <td>2</td>\n",
       "      <td>gProfiler</td>\n",
       "      <td>2</td>\n",
       "      <td>25</td>\n",
       "      <td>Regulation of Leukocyte Differentiation</td>\n",
       "      <td>regulation of leukocyte differentiation</td>\n",
       "      <td>GO:1902105</td>\n",
       "      <td>1.217560e-04</td>\n",
       "      <td>3.914508</td>\n",
       "      <td>295</td>\n",
       "      <td>215</td>\n",
       "      <td>16</td>\n",
       "      <td>21354</td>\n",
       "      <td>TNFSF11,CD24A,MYB,LAG3,SOX4,KLF10,IKZF3,BCL6,I...</td>\n",
       "    </tr>\n",
       "    <tr>\n",
       "      <th>8</th>\n",
       "      <td>2</td>\n",
       "      <td>gProfiler</td>\n",
       "      <td>2</td>\n",
       "      <td>24</td>\n",
       "      <td>Negative Regulation of Biological Process</td>\n",
       "      <td>negative regulation of biological process</td>\n",
       "      <td>GO:0048519</td>\n",
       "      <td>4.707750e-04</td>\n",
       "      <td>3.327186</td>\n",
       "      <td>5611</td>\n",
       "      <td>215</td>\n",
       "      <td>91</td>\n",
       "      <td>21354</td>\n",
       "      <td>RTKN2,SH3RF1,SWAP70,GATA1,NDRG1,GGT7,DLG4,CTDS...</td>\n",
       "    </tr>\n",
       "    <tr>\n",
       "      <th>9</th>\n",
       "      <td>2</td>\n",
       "      <td>gProfiler</td>\n",
       "      <td>2</td>\n",
       "      <td>23</td>\n",
       "      <td>Signal Transduction</td>\n",
       "      <td>signal transduction</td>\n",
       "      <td>GO:0007165</td>\n",
       "      <td>8.174010e-04</td>\n",
       "      <td>3.087565</td>\n",
       "      <td>6740</td>\n",
       "      <td>215</td>\n",
       "      <td>103</td>\n",
       "      <td>21354</td>\n",
       "      <td>RAPH1,RTKN2,CEP55,ARHGAP18,TNFSF11,ITGA9,SH3RF...</td>\n",
       "    </tr>\n",
       "    <tr>\n",
       "      <th>10</th>\n",
       "      <td>2</td>\n",
       "      <td>gProfiler</td>\n",
       "      <td>2</td>\n",
       "      <td>22</td>\n",
       "      <td>T Cell Activation</td>\n",
       "      <td>T cell activation</td>\n",
       "      <td>GO:0042110</td>\n",
       "      <td>1.872640e-03</td>\n",
       "      <td>2.727546</td>\n",
       "      <td>502</td>\n",
       "      <td>215</td>\n",
       "      <td>19</td>\n",
       "      <td>21354</td>\n",
       "      <td>TNFSF11,CD24A,MYB,LAG3,BCL2A1D,SOX4,EPHB6,TNFR...</td>\n",
       "    </tr>\n",
       "    <tr>\n",
       "      <th>11</th>\n",
       "      <td>3</td>\n",
       "      <td>gProfiler</td>\n",
       "      <td>3</td>\n",
       "      <td>21</td>\n",
       "      <td>Cellular Divalent Inorganic Cation Homeostasis</td>\n",
       "      <td>cellular divalent inorganic cation homeostasis</td>\n",
       "      <td>GO:0072503</td>\n",
       "      <td>2.134220e-04</td>\n",
       "      <td>3.670761</td>\n",
       "      <td>516</td>\n",
       "      <td>148</td>\n",
       "      <td>17</td>\n",
       "      <td>21354</td>\n",
       "      <td>CCR4,P2RY1,WFS1,CCR6,CCR8,SLC39A8,CACNB3,MS4A1...</td>\n",
       "    </tr>\n",
       "    <tr>\n",
       "      <th>12</th>\n",
       "      <td>3</td>\n",
       "      <td>gProfiler</td>\n",
       "      <td>3</td>\n",
       "      <td>20</td>\n",
       "      <td>Calcium Ion Homeostasis</td>\n",
       "      <td>calcium ion homeostasis</td>\n",
       "      <td>GO:0055074</td>\n",
       "      <td>4.273401e-03</td>\n",
       "      <td>2.369226</td>\n",
       "      <td>503</td>\n",
       "      <td>148</td>\n",
       "      <td>15</td>\n",
       "      <td>21354</td>\n",
       "      <td>CCR4,P2RY1,WFS1,CCR6,CCR8,CACNB3,MS4A1,CD19,F2...</td>\n",
       "    </tr>\n",
       "    <tr>\n",
       "      <th>13</th>\n",
       "      <td>3</td>\n",
       "      <td>gProfiler</td>\n",
       "      <td>3</td>\n",
       "      <td>19</td>\n",
       "      <td>Cell Motility</td>\n",
       "      <td>cell motility</td>\n",
       "      <td>GO:0048870</td>\n",
       "      <td>5.402736e-03</td>\n",
       "      <td>2.267386</td>\n",
       "      <td>1655</td>\n",
       "      <td>148</td>\n",
       "      <td>29</td>\n",
       "      <td>21354</td>\n",
       "      <td>TUBB2B,GAS8,DRC1,CCR4,TUBB2A,P2RY1,FBLN1,PLXNA...</td>\n",
       "    </tr>\n",
       "    <tr>\n",
       "      <th>14</th>\n",
       "      <td>3</td>\n",
       "      <td>gProfiler</td>\n",
       "      <td>3</td>\n",
       "      <td>18</td>\n",
       "      <td>Cellular Homeostasis</td>\n",
       "      <td>cellular homeostasis</td>\n",
       "      <td>GO:0019725</td>\n",
       "      <td>6.460908e-03</td>\n",
       "      <td>2.189706</td>\n",
       "      <td>969</td>\n",
       "      <td>148</td>\n",
       "      <td>21</td>\n",
       "      <td>21354</td>\n",
       "      <td>CCR4,P2RY1,WFS1,CCR6,CCR8,SLC39A8,PTK2,CACNB3,...</td>\n",
       "    </tr>\n",
       "    <tr>\n",
       "      <th>15</th>\n",
       "      <td>3</td>\n",
       "      <td>gProfiler</td>\n",
       "      <td>3</td>\n",
       "      <td>17</td>\n",
       "      <td>Cell Migration</td>\n",
       "      <td>cell migration</td>\n",
       "      <td>GO:0016477</td>\n",
       "      <td>7.611136e-03</td>\n",
       "      <td>2.118551</td>\n",
       "      <td>1499</td>\n",
       "      <td>148</td>\n",
       "      <td>27</td>\n",
       "      <td>21354</td>\n",
       "      <td>TUBB2B,CCR4,TUBB2A,P2RY1,FBLN1,PLXNA1,SEMA7A,C...</td>\n",
       "    </tr>\n",
       "    <tr>\n",
       "      <th>16</th>\n",
       "      <td>4</td>\n",
       "      <td>gProfiler</td>\n",
       "      <td>4</td>\n",
       "      <td>16</td>\n",
       "      <td>Response to External Stimulus</td>\n",
       "      <td>response to external stimulus</td>\n",
       "      <td>GO:0009605</td>\n",
       "      <td>1.477165e-02</td>\n",
       "      <td>1.830571</td>\n",
       "      <td>2947</td>\n",
       "      <td>120</td>\n",
       "      <td>35</td>\n",
       "      <td>21354</td>\n",
       "      <td>CSF1,AQP3,CD160,IL10RA,OASL1,RAB32,PIM2,CXCR4,...</td>\n",
       "    </tr>\n",
       "    <tr>\n",
       "      <th>17</th>\n",
       "      <td>4</td>\n",
       "      <td>gProfiler</td>\n",
       "      <td>4</td>\n",
       "      <td>15</td>\n",
       "      <td>Leukocyte Activation</td>\n",
       "      <td>leukocyte activation</td>\n",
       "      <td>GO:0045321</td>\n",
       "      <td>1.886962e-02</td>\n",
       "      <td>1.724237</td>\n",
       "      <td>996</td>\n",
       "      <td>120</td>\n",
       "      <td>18</td>\n",
       "      <td>21354</td>\n",
       "      <td>EXO1,CD160,IL2RB,DTX1,CLEC2I,EGR3,EGR1,PGLYRP1...</td>\n",
       "    </tr>\n",
       "    <tr>\n",
       "      <th>18</th>\n",
       "      <td>4</td>\n",
       "      <td>gProfiler</td>\n",
       "      <td>4</td>\n",
       "      <td>14</td>\n",
       "      <td>Response to Organic Substance</td>\n",
       "      <td>response to organic substance</td>\n",
       "      <td>GO:0010033</td>\n",
       "      <td>2.751231e-02</td>\n",
       "      <td>1.560473</td>\n",
       "      <td>3434</td>\n",
       "      <td>120</td>\n",
       "      <td>38</td>\n",
       "      <td>21354</td>\n",
       "      <td>CSF1,AQP3,ACSBG1,IL10RA,SHMT1,IL2RB,DTX1,RARG,...</td>\n",
       "    </tr>\n",
       "    <tr>\n",
       "      <th>19</th>\n",
       "      <td>4</td>\n",
       "      <td>gProfiler</td>\n",
       "      <td>4</td>\n",
       "      <td>13</td>\n",
       "      <td>Regulation of Response to Stimulus</td>\n",
       "      <td>regulation of response to stimulus</td>\n",
       "      <td>GO:0048583</td>\n",
       "      <td>2.819795e-02</td>\n",
       "      <td>1.549782</td>\n",
       "      <td>3852</td>\n",
       "      <td>120</td>\n",
       "      <td>41</td>\n",
       "      <td>21354</td>\n",
       "      <td>CSF1,CD160,IL10RA,DTX1,ANKLE1,HIP1R,CXCR4,XDH,...</td>\n",
       "    </tr>\n",
       "    <tr>\n",
       "      <th>20</th>\n",
       "      <td>4</td>\n",
       "      <td>gProfiler</td>\n",
       "      <td>4</td>\n",
       "      <td>12</td>\n",
       "      <td>Cellular Response to Chemical Stimulus</td>\n",
       "      <td>cellular response to chemical stimulus</td>\n",
       "      <td>GO:0070887</td>\n",
       "      <td>4.813813e-02</td>\n",
       "      <td>1.317511</td>\n",
       "      <td>3111</td>\n",
       "      <td>120</td>\n",
       "      <td>35</td>\n",
       "      <td>21354</td>\n",
       "      <td>CSF1,AQP3,IL10RA,SHMT1,IL2RB,DTX1,RARG,CXCR4,X...</td>\n",
       "    </tr>\n",
       "    <tr>\n",
       "      <th>21</th>\n",
       "      <td>5</td>\n",
       "      <td>KEGG</td>\n",
       "      <td>5</td>\n",
       "      <td>11</td>\n",
       "      <td>Antigen Processing and Presentation</td>\n",
       "      <td>Antigen processing and presentation</td>\n",
       "      <td>KEGG:04612</td>\n",
       "      <td>6.380000e-05</td>\n",
       "      <td>4.195502</td>\n",
       "      <td>81</td>\n",
       "      <td>35</td>\n",
       "      <td>6</td>\n",
       "      <td>8477</td>\n",
       "      <td>H2-T3,KLRD1,CD8B1,HSPA1B,H2-Q6,H2-Q7</td>\n",
       "    </tr>\n",
       "    <tr>\n",
       "      <th>22</th>\n",
       "      <td>5</td>\n",
       "      <td>KEGG</td>\n",
       "      <td>5</td>\n",
       "      <td>10</td>\n",
       "      <td>Graft-Versus-Host Disease</td>\n",
       "      <td>Graft-versus-host disease</td>\n",
       "      <td>KEGG:05332</td>\n",
       "      <td>5.553623e-03</td>\n",
       "      <td>2.255424</td>\n",
       "      <td>55</td>\n",
       "      <td>35</td>\n",
       "      <td>4</td>\n",
       "      <td>8477</td>\n",
       "      <td>H2-T3,KLRD1,H2-Q6,H2-Q7</td>\n",
       "    </tr>\n",
       "    <tr>\n",
       "      <th>23</th>\n",
       "      <td>5</td>\n",
       "      <td>KEGG</td>\n",
       "      <td>5</td>\n",
       "      <td>9</td>\n",
       "      <td>Kaposi Sarcoma-Associated Herpesvirus Infection</td>\n",
       "      <td>Kaposi sarcoma-associated herpesvirus infection</td>\n",
       "      <td>KEGG:05167</td>\n",
       "      <td>1.777708e-02</td>\n",
       "      <td>1.750140</td>\n",
       "      <td>217</td>\n",
       "      <td>35</td>\n",
       "      <td>6</td>\n",
       "      <td>8477</td>\n",
       "      <td>H2-T3,CD200R4,JUN,FOS,H2-Q6,H2-Q7</td>\n",
       "    </tr>\n",
       "    <tr>\n",
       "      <th>24</th>\n",
       "      <td>5</td>\n",
       "      <td>KEGG</td>\n",
       "      <td>5</td>\n",
       "      <td>8</td>\n",
       "      <td>Fluid Shear Stress and Atherosclerosis</td>\n",
       "      <td>Fluid shear stress and atherosclerosis</td>\n",
       "      <td>KEGG:05418</td>\n",
       "      <td>2.000019e-02</td>\n",
       "      <td>1.698966</td>\n",
       "      <td>141</td>\n",
       "      <td>35</td>\n",
       "      <td>5</td>\n",
       "      <td>8477</td>\n",
       "      <td>BMPR1A,MGST3,JUN,FOS,CDH5</td>\n",
       "    </tr>\n",
       "    <tr>\n",
       "      <th>25</th>\n",
       "      <td>5</td>\n",
       "      <td>KEGG</td>\n",
       "      <td>5</td>\n",
       "      <td>7</td>\n",
       "      <td>Cell Adhesion Molecules</td>\n",
       "      <td>Cell adhesion molecules</td>\n",
       "      <td>KEGG:04514</td>\n",
       "      <td>3.798327e-02</td>\n",
       "      <td>1.420408</td>\n",
       "      <td>162</td>\n",
       "      <td>35</td>\n",
       "      <td>5</td>\n",
       "      <td>8477</td>\n",
       "      <td>H2-T3,CD8B1,CDH5,H2-Q6,H2-Q7</td>\n",
       "    </tr>\n",
       "    <tr>\n",
       "      <th>26</th>\n",
       "      <td>6</td>\n",
       "      <td>gProfiler</td>\n",
       "      <td>6</td>\n",
       "      <td>6</td>\n",
       "      <td>Leukocyte Cell-Cell Adhesion</td>\n",
       "      <td>leukocyte cell-cell adhesion</td>\n",
       "      <td>GO:0007159</td>\n",
       "      <td>4.910000e-05</td>\n",
       "      <td>4.308695</td>\n",
       "      <td>343</td>\n",
       "      <td>74</td>\n",
       "      <td>11</td>\n",
       "      <td>21354</td>\n",
       "      <td>SOCS1,H2-AB1,H2-AA,CD74,FGL2,NT5E,TNFSF14,CCR2...</td>\n",
       "    </tr>\n",
       "    <tr>\n",
       "      <th>27</th>\n",
       "      <td>6</td>\n",
       "      <td>gProfiler</td>\n",
       "      <td>6</td>\n",
       "      <td>5</td>\n",
       "      <td>Positive Regulation of T Cell Activation</td>\n",
       "      <td>positive regulation of T cell activation</td>\n",
       "      <td>GO:0050870</td>\n",
       "      <td>8.147080e-04</td>\n",
       "      <td>3.088998</td>\n",
       "      <td>199</td>\n",
       "      <td>74</td>\n",
       "      <td>8</td>\n",
       "      <td>21354</td>\n",
       "      <td>SOCS1,H2-AB1,H2-AA,CD74,TNFSF14,CCR2,SYK,IL2RA</td>\n",
       "    </tr>\n",
       "    <tr>\n",
       "      <th>28</th>\n",
       "      <td>6</td>\n",
       "      <td>gProfiler</td>\n",
       "      <td>6</td>\n",
       "      <td>4</td>\n",
       "      <td>Positive Regulation of T Cell Differentiation</td>\n",
       "      <td>positive regulation of T cell differentiation</td>\n",
       "      <td>GO:0045582</td>\n",
       "      <td>1.669010e-03</td>\n",
       "      <td>2.777541</td>\n",
       "      <td>94</td>\n",
       "      <td>74</td>\n",
       "      <td>6</td>\n",
       "      <td>21354</td>\n",
       "      <td>SOCS1,H2-AA,CD74,CCR2,SYK,IL2RA</td>\n",
       "    </tr>\n",
       "    <tr>\n",
       "      <th>29</th>\n",
       "      <td>6</td>\n",
       "      <td>gProfiler</td>\n",
       "      <td>6</td>\n",
       "      <td>3</td>\n",
       "      <td>Response to Interferon-Gamma</td>\n",
       "      <td>response to interferon-gamma</td>\n",
       "      <td>GO:0034341</td>\n",
       "      <td>2.054822e-03</td>\n",
       "      <td>2.687226</td>\n",
       "      <td>155</td>\n",
       "      <td>74</td>\n",
       "      <td>7</td>\n",
       "      <td>21354</td>\n",
       "      <td>X57330,TLR2,CASP1,SOCS1,IFITM3,H2-AB1,H2-AA</td>\n",
       "    </tr>\n",
       "    <tr>\n",
       "      <th>30</th>\n",
       "      <td>6</td>\n",
       "      <td>gProfiler</td>\n",
       "      <td>6</td>\n",
       "      <td>2</td>\n",
       "      <td>Response to Cytokine</td>\n",
       "      <td>response to cytokine</td>\n",
       "      <td>GO:0034097</td>\n",
       "      <td>8.027804e-03</td>\n",
       "      <td>2.095403</td>\n",
       "      <td>955</td>\n",
       "      <td>74</td>\n",
       "      <td>14</td>\n",
       "      <td>21354</td>\n",
       "      <td>IL9R,SPOCK2,ABCA1,X57330,TLR2,CASP1,SOCS1,IFIT...</td>\n",
       "    </tr>\n",
       "    <tr>\n",
       "      <th>31</th>\n",
       "      <td>6</td>\n",
       "      <td>gProfiler</td>\n",
       "      <td>6</td>\n",
       "      <td>1</td>\n",
       "      <td>Immune Response</td>\n",
       "      <td>immune response</td>\n",
       "      <td>GO:0006955</td>\n",
       "      <td>8.470935e-03</td>\n",
       "      <td>2.072069</td>\n",
       "      <td>1727</td>\n",
       "      <td>74</td>\n",
       "      <td>19</td>\n",
       "      <td>21354</td>\n",
       "      <td>SERPINB1A,X57330,TLR2,CASP1,SOCS1,IFITM3,H2-AB...</td>\n",
       "    </tr>\n",
       "    <tr>\n",
       "      <th>32</th>\n",
       "      <td>6</td>\n",
       "      <td>KEGG</td>\n",
       "      <td>6</td>\n",
       "      <td>0</td>\n",
       "      <td>Th17 Cell Differentiation</td>\n",
       "      <td>Th17 cell differentiation</td>\n",
       "      <td>KEGG:04659</td>\n",
       "      <td>5.678463e-03</td>\n",
       "      <td>2.245769</td>\n",
       "      <td>103</td>\n",
       "      <td>37</td>\n",
       "      <td>5</td>\n",
       "      <td>8477</td>\n",
       "      <td>H2-AB1,H2-AA,H2-EB1,AHR,IL2RA</td>\n",
       "    </tr>\n",
       "    <tr>\n",
       "      <th>33</th>\n",
       "      <td>6</td>\n",
       "      <td>KEGG</td>\n",
       "      <td>6</td>\n",
       "      <td>-1</td>\n",
       "      <td>Antigen Processing and Differentiation</td>\n",
       "      <td>Antigen processing and presentation</td>\n",
       "      <td>KEGG:04612</td>\n",
       "      <td>1.781412e-03</td>\n",
       "      <td>2.749236</td>\n",
       "      <td>81</td>\n",
       "      <td>37</td>\n",
       "      <td>5</td>\n",
       "      <td>8477</td>\n",
       "      <td>X57330,H2-AB1,H2-AA,CD74,H2-EB1</td>\n",
       "    </tr>\n",
       "  </tbody>\n",
       "</table>\n",
       "</div>"
      ],
      "text/plain": [
       "    Module     source  x_pos  y_pos  \\\n",
       "0        1  gProfiler      1     32   \n",
       "1        1  gProfiler      1     31   \n",
       "2        1  gProfiler      1     30   \n",
       "3        1  gProfiler      1     29   \n",
       "4        1  gProfiler      1     28   \n",
       "5        2  gProfiler      2     27   \n",
       "6        2  gProfiler      2     26   \n",
       "7        2  gProfiler      2     25   \n",
       "8        2  gProfiler      2     24   \n",
       "9        2  gProfiler      2     23   \n",
       "10       2  gProfiler      2     22   \n",
       "11       3  gProfiler      3     21   \n",
       "12       3  gProfiler      3     20   \n",
       "13       3  gProfiler      3     19   \n",
       "14       3  gProfiler      3     18   \n",
       "15       3  gProfiler      3     17   \n",
       "16       4  gProfiler      4     16   \n",
       "17       4  gProfiler      4     15   \n",
       "18       4  gProfiler      4     14   \n",
       "19       4  gProfiler      4     13   \n",
       "20       4  gProfiler      4     12   \n",
       "21       5       KEGG      5     11   \n",
       "22       5       KEGG      5     10   \n",
       "23       5       KEGG      5      9   \n",
       "24       5       KEGG      5      8   \n",
       "25       5       KEGG      5      7   \n",
       "26       6  gProfiler      6      6   \n",
       "27       6  gProfiler      6      5   \n",
       "28       6  gProfiler      6      4   \n",
       "29       6  gProfiler      6      3   \n",
       "30       6  gProfiler      6      2   \n",
       "31       6  gProfiler      6      1   \n",
       "32       6       KEGG      6      0   \n",
       "33       6       KEGG      6     -1   \n",
       "\n",
       "                                       pathway_name  \\\n",
       "0                        Mitotic Cell Cycle Process   \n",
       "1                          Regulation of Cell Cycle   \n",
       "2                         Cytoskeleton Organization   \n",
       "3                              Leukocyte Activation   \n",
       "4                                 T Cell Activation   \n",
       "5                                     Cell Adhesion   \n",
       "6                                   Cell Activation   \n",
       "7           Regulation of Leukocyte Differentiation   \n",
       "8         Negative Regulation of Biological Process   \n",
       "9                               Signal Transduction   \n",
       "10                                T Cell Activation   \n",
       "11   Cellular Divalent Inorganic Cation Homeostasis   \n",
       "12                          Calcium Ion Homeostasis   \n",
       "13                                    Cell Motility   \n",
       "14                             Cellular Homeostasis   \n",
       "15                                   Cell Migration   \n",
       "16                    Response to External Stimulus   \n",
       "17                             Leukocyte Activation   \n",
       "18                    Response to Organic Substance   \n",
       "19               Regulation of Response to Stimulus   \n",
       "20           Cellular Response to Chemical Stimulus   \n",
       "21              Antigen Processing and Presentation   \n",
       "22                        Graft-Versus-Host Disease   \n",
       "23  Kaposi Sarcoma-Associated Herpesvirus Infection   \n",
       "24           Fluid Shear Stress and Atherosclerosis   \n",
       "25                          Cell Adhesion Molecules   \n",
       "26                     Leukocyte Cell-Cell Adhesion   \n",
       "27         Positive Regulation of T Cell Activation   \n",
       "28    Positive Regulation of T Cell Differentiation   \n",
       "29                     Response to Interferon-Gamma   \n",
       "30                             Response to Cytokine   \n",
       "31                                  Immune Response   \n",
       "32                        Th17 Cell Differentiation   \n",
       "33           Antigen Processing and Differentiation   \n",
       "\n",
       "                                          term_name     term_id  \\\n",
       "0                        mitotic cell cycle process  GO:1903047   \n",
       "1                          regulation of cell cycle  GO:0051726   \n",
       "2                         cytoskeleton organization  GO:0007010   \n",
       "3                              leukocyte activation  GO:0045321   \n",
       "4                                 T cell activation  GO:0042110   \n",
       "5                                     cell adhesion  GO:0007155   \n",
       "6                                   cell activation  GO:0001775   \n",
       "7           regulation of leukocyte differentiation  GO:1902105   \n",
       "8         negative regulation of biological process  GO:0048519   \n",
       "9                               signal transduction  GO:0007165   \n",
       "10                                T cell activation  GO:0042110   \n",
       "11   cellular divalent inorganic cation homeostasis  GO:0072503   \n",
       "12                          calcium ion homeostasis  GO:0055074   \n",
       "13                                    cell motility  GO:0048870   \n",
       "14                             cellular homeostasis  GO:0019725   \n",
       "15                                   cell migration  GO:0016477   \n",
       "16                    response to external stimulus  GO:0009605   \n",
       "17                             leukocyte activation  GO:0045321   \n",
       "18                    response to organic substance  GO:0010033   \n",
       "19               regulation of response to stimulus  GO:0048583   \n",
       "20           cellular response to chemical stimulus  GO:0070887   \n",
       "21              Antigen processing and presentation  KEGG:04612   \n",
       "22                        Graft-versus-host disease  KEGG:05332   \n",
       "23  Kaposi sarcoma-associated herpesvirus infection  KEGG:05167   \n",
       "24           Fluid shear stress and atherosclerosis  KEGG:05418   \n",
       "25                          Cell adhesion molecules  KEGG:04514   \n",
       "26                     leukocyte cell-cell adhesion  GO:0007159   \n",
       "27         positive regulation of T cell activation  GO:0050870   \n",
       "28    positive regulation of T cell differentiation  GO:0045582   \n",
       "29                     response to interferon-gamma  GO:0034341   \n",
       "30                             response to cytokine  GO:0034097   \n",
       "31                                  immune response  GO:0006955   \n",
       "32                        Th17 cell differentiation  KEGG:04659   \n",
       "33              Antigen processing and presentation  KEGG:04612   \n",
       "\n",
       "    adjusted_p_value  negative_log10_of_adjusted_p_value  term_size  \\\n",
       "0       2.960000e-38                           37.528657        676   \n",
       "1       9.040000e-19                           18.044056        992   \n",
       "2       1.880000e-09                            8.726290       1406   \n",
       "3       2.686381e-02                            1.570832        996   \n",
       "4       2.294174e-02                            1.639374        502   \n",
       "5       1.350000e-08                            7.871082       1377   \n",
       "6       1.250000e-06                            5.903550       1118   \n",
       "7       1.217560e-04                            3.914508        295   \n",
       "8       4.707750e-04                            3.327186       5611   \n",
       "9       8.174010e-04                            3.087565       6740   \n",
       "10      1.872640e-03                            2.727546        502   \n",
       "11      2.134220e-04                            3.670761        516   \n",
       "12      4.273401e-03                            2.369226        503   \n",
       "13      5.402736e-03                            2.267386       1655   \n",
       "14      6.460908e-03                            2.189706        969   \n",
       "15      7.611136e-03                            2.118551       1499   \n",
       "16      1.477165e-02                            1.830571       2947   \n",
       "17      1.886962e-02                            1.724237        996   \n",
       "18      2.751231e-02                            1.560473       3434   \n",
       "19      2.819795e-02                            1.549782       3852   \n",
       "20      4.813813e-02                            1.317511       3111   \n",
       "21      6.380000e-05                            4.195502         81   \n",
       "22      5.553623e-03                            2.255424         55   \n",
       "23      1.777708e-02                            1.750140        217   \n",
       "24      2.000019e-02                            1.698966        141   \n",
       "25      3.798327e-02                            1.420408        162   \n",
       "26      4.910000e-05                            4.308695        343   \n",
       "27      8.147080e-04                            3.088998        199   \n",
       "28      1.669010e-03                            2.777541         94   \n",
       "29      2.054822e-03                            2.687226        155   \n",
       "30      8.027804e-03                            2.095403        955   \n",
       "31      8.470935e-03                            2.072069       1727   \n",
       "32      5.678463e-03                            2.245769        103   \n",
       "33      1.781412e-03                            2.749236         81   \n",
       "\n",
       "    query_size  intersection_size  effective_domain_size  \\\n",
       "0          170                 56                  21354   \n",
       "1          170                 45                  21354   \n",
       "2          170                 40                  21354   \n",
       "3          170                 22                  21354   \n",
       "4          170                 15                  21354   \n",
       "5          215                 44                  21354   \n",
       "6          215                 36                  21354   \n",
       "7          215                 16                  21354   \n",
       "8          215                 91                  21354   \n",
       "9          215                103                  21354   \n",
       "10         215                 19                  21354   \n",
       "11         148                 17                  21354   \n",
       "12         148                 15                  21354   \n",
       "13         148                 29                  21354   \n",
       "14         148                 21                  21354   \n",
       "15         148                 27                  21354   \n",
       "16         120                 35                  21354   \n",
       "17         120                 18                  21354   \n",
       "18         120                 38                  21354   \n",
       "19         120                 41                  21354   \n",
       "20         120                 35                  21354   \n",
       "21          35                  6                   8477   \n",
       "22          35                  4                   8477   \n",
       "23          35                  6                   8477   \n",
       "24          35                  5                   8477   \n",
       "25          35                  5                   8477   \n",
       "26          74                 11                  21354   \n",
       "27          74                  8                  21354   \n",
       "28          74                  6                  21354   \n",
       "29          74                  7                  21354   \n",
       "30          74                 14                  21354   \n",
       "31          74                 19                  21354   \n",
       "32          37                  5                   8477   \n",
       "33          37                  5                   8477   \n",
       "\n",
       "                                        intersections  \n",
       "0   CDKN2C,TACC3,STIL,AURKB,KIF2C,CDCA8,TPX2,CENPE...  \n",
       "1   CDKN2C,FAM83D,STIL,FIGNL1,AURKB,TPX2,CENPE,CEN...  \n",
       "2   TYROBP,RHOQ,TTN,TACC3,SKA3,STIL,FIGNL1,AURKB,K...  \n",
       "3   FCER1G,TYROBP,H2-OA,CD86,EBI3,IL1RL1,CD38,ZBTB...  \n",
       "4   FCER1G,H2-OA,CD86,EBI3,ZBTB32,TIGIT,CTLA4,ICOS...  \n",
       "5   TNFSF11,ITGA9,SWAP70,GATA1,DLG4,EMILIN1,ALCAM,...  \n",
       "6   TNFSF11,SWAP70,GATA1,NDRG1,EMILIN1,CAMK2B,NTN1...  \n",
       "7   TNFSF11,CD24A,MYB,LAG3,SOX4,KLF10,IKZF3,BCL6,I...  \n",
       "8   RTKN2,SH3RF1,SWAP70,GATA1,NDRG1,GGT7,DLG4,CTDS...  \n",
       "9   RAPH1,RTKN2,CEP55,ARHGAP18,TNFSF11,ITGA9,SH3RF...  \n",
       "10  TNFSF11,CD24A,MYB,LAG3,BCL2A1D,SOX4,EPHB6,TNFR...  \n",
       "11  CCR4,P2RY1,WFS1,CCR6,CCR8,SLC39A8,CACNB3,MS4A1...  \n",
       "12  CCR4,P2RY1,WFS1,CCR6,CCR8,CACNB3,MS4A1,CD19,F2...  \n",
       "13  TUBB2B,GAS8,DRC1,CCR4,TUBB2A,P2RY1,FBLN1,PLXNA...  \n",
       "14  CCR4,P2RY1,WFS1,CCR6,CCR8,SLC39A8,PTK2,CACNB3,...  \n",
       "15  TUBB2B,CCR4,TUBB2A,P2RY1,FBLN1,PLXNA1,SEMA7A,C...  \n",
       "16  CSF1,AQP3,CD160,IL10RA,OASL1,RAB32,PIM2,CXCR4,...  \n",
       "17  EXO1,CD160,IL2RB,DTX1,CLEC2I,EGR3,EGR1,PGLYRP1...  \n",
       "18  CSF1,AQP3,ACSBG1,IL10RA,SHMT1,IL2RB,DTX1,RARG,...  \n",
       "19  CSF1,CD160,IL10RA,DTX1,ANKLE1,HIP1R,CXCR4,XDH,...  \n",
       "20  CSF1,AQP3,IL10RA,SHMT1,IL2RB,DTX1,RARG,CXCR4,X...  \n",
       "21               H2-T3,KLRD1,CD8B1,HSPA1B,H2-Q6,H2-Q7  \n",
       "22                            H2-T3,KLRD1,H2-Q6,H2-Q7  \n",
       "23                  H2-T3,CD200R4,JUN,FOS,H2-Q6,H2-Q7  \n",
       "24                          BMPR1A,MGST3,JUN,FOS,CDH5  \n",
       "25                       H2-T3,CD8B1,CDH5,H2-Q6,H2-Q7  \n",
       "26  SOCS1,H2-AB1,H2-AA,CD74,FGL2,NT5E,TNFSF14,CCR2...  \n",
       "27     SOCS1,H2-AB1,H2-AA,CD74,TNFSF14,CCR2,SYK,IL2RA  \n",
       "28                    SOCS1,H2-AA,CD74,CCR2,SYK,IL2RA  \n",
       "29        X57330,TLR2,CASP1,SOCS1,IFITM3,H2-AB1,H2-AA  \n",
       "30  IL9R,SPOCK2,ABCA1,X57330,TLR2,CASP1,SOCS1,IFIT...  \n",
       "31  SERPINB1A,X57330,TLR2,CASP1,SOCS1,IFITM3,H2-AB...  \n",
       "32                      H2-AB1,H2-AA,H2-EB1,AHR,IL2RA  \n",
       "33                    X57330,H2-AB1,H2-AA,CD74,H2-EB1  "
      ]
     },
     "execution_count": 103,
     "metadata": {},
     "output_type": "execute_result"
    }
   ],
   "source": [
    "modules"
   ]
  },
  {
   "cell_type": "code",
   "execution_count": 104,
   "metadata": {},
   "outputs": [
    {
     "name": "stdout",
     "output_type": "stream",
     "text": [
      "4\n",
      "103\n"
     ]
    }
   ],
   "source": [
    "print(np.min(modules[\"intersection_size\"]))\n",
    "print(np.max(modules[\"intersection_size\"]))"
   ]
  },
  {
   "cell_type": "code",
   "execution_count": 105,
   "metadata": {},
   "outputs": [],
   "source": [
    "import matplotlib as mpl\n",
    "cmap = mpl.cm.Oranges(np.linspace(0,1,20))\n",
    "cmap = mpl.colors.ListedColormap(cmap[5:,:-1])"
   ]
  },
  {
   "cell_type": "code",
   "execution_count": 107,
   "metadata": {},
   "outputs": [
    {
     "name": "stderr",
     "output_type": "stream",
     "text": [
      "/wynton/home/ye/emccarthy/miniconda3/envs/deseq/lib/python3.7/site-packages/ipykernel_launcher.py:12: UserWarning: FixedFormatter should only be used together with FixedLocator\n",
      "  if sys.path[0] == '':\n"
     ]
    },
    {
     "data": {
      "image/png": "[encoded data removed]",
      "text/plain": [
       "<Figure size 432x1080 with 1 Axes>"
      ]
     },
     "metadata": {
      "needs_background": "light"
     },
     "output_type": "display_data"
    }
   ],
   "source": [
    "\n",
    "#file_save_prefix = 'results/bulk_RNA_seq/'\n",
    "fig, ax = plt.subplots(figsize = (6,15))\n",
    "plt.locator_params(axis=\"y\", nbins=40)\n",
    "plt.grid(True, which = 'both', axis = 'both')\n",
    "plt.rc('axes', axisbelow=True)\n",
    "scatter = ax.scatter(modules['x_pos'],modules['y_pos'], s = modules[\"intersection_size\"]*10, c = -np.log(modules[\"adjusted_p_value\"]), cmap = cmap, edgecolors='black')\n",
    "\n",
    "pathway_names = list(modules[\"pathway_name\"])\n",
    "pathway_names.reverse()\n",
    "labels = [\"\"] + [\"\"] + pathway_names + [\"\"] +[\"\"]\n",
    "ax.set_yticklabels(labels)\n",
    "# produce a legend with the unique colors from the scatter\n",
    "handles_1, labels_1 = scatter.legend_elements()\n",
    "#legend1 = ax.legend(*scatter.legend_elements(), loc=\"lower left\", title=\"\")\n",
    "legend1 = ax.legend(*scatter.legend_elements(), loc=\"lower left\", title=\"-Log(Adj. p value)\")\n",
    "ax.add_artist(legend1)\n",
    "\n",
    "# produce a legend with a cross section of sizes from the scatter\n",
    "handles, labels = scatter.legend_elements(prop=\"sizes\", alpha=0.6)\n",
    "new_labels = ['$\\\\mathdefault{10}$',\n",
    " '$\\\\mathdefault{20}$',\n",
    " '$\\\\mathdefault{30}$',\n",
    " '$\\\\mathdefault{40}$',\n",
    " '$\\\\mathdefault{50}$',\n",
    " '$\\\\mathdefault{60}$',\n",
    " '$\\\\mathdefault{70}$',\n",
    " '$\\\\mathdefault{80}$',\n",
    " '$\\\\mathdefault{90}$',\n",
    " '$\\\\mathdefault{100}$']\n",
    "legend2 = ax.legend(handles, new_labels, loc=\"upper right\", title=\"# of Genes\")\n",
    "plt.rc('axes', axisbelow=True)\n",
    "#plt.savefig(file_save_prefix + \"fig_1_heatmap_module_pathway_enrichment_scatterplot_081021\" + \".svg\", format=\"svg\")\n",
    "plt.show()\n",
    "plt.close()"
   ]
  },
  {
   "cell_type": "markdown",
   "metadata": {},
   "source": [
    "# Module Distribution"
   ]
  },
  {
   "cell_type": "code",
   "execution_count": 146,
   "metadata": {},
   "outputs": [],
   "source": [
    "group_1 = \"WT_high\"\n",
    "group_2 = \"SKG_high\"\n",
    "file_path = \"results/bulk_RNA_seq/data_S1_diff_exp_\"+group_1+\"_\"+group_2+\".csv\"\n",
    "data_to_plot  = pd.read_csv(file_path)"
   ]
  },
  {
   "cell_type": "code",
   "execution_count": 147,
   "metadata": {},
   "outputs": [
    {
     "data": {
      "text/html": [
       "<div>\n",
       "<style scoped>\n",
       "    .dataframe tbody tr th:only-of-type {\n",
       "        vertical-align: middle;\n",
       "    }\n",
       "\n",
       "    .dataframe tbody tr th {\n",
       "        vertical-align: top;\n",
       "    }\n",
       "\n",
       "    .dataframe thead th {\n",
       "        text-align: right;\n",
       "    }\n",
       "</style>\n",
       "<table border=\"1\" class=\"dataframe\">\n",
       "  <thead>\n",
       "    <tr style=\"text-align: right;\">\n",
       "      <th></th>\n",
       "      <th>Unnamed: 0</th>\n",
       "      <th>baseMean</th>\n",
       "      <th>log2FoldChange</th>\n",
       "      <th>lfcSE</th>\n",
       "      <th>stat</th>\n",
       "      <th>pvalue</th>\n",
       "      <th>padj</th>\n",
       "    </tr>\n",
       "  </thead>\n",
       "  <tbody>\n",
       "    <tr>\n",
       "      <th>0</th>\n",
       "      <td>Itm2a</td>\n",
       "      <td>2810.834571</td>\n",
       "      <td>0.561452</td>\n",
       "      <td>0.125737</td>\n",
       "      <td>4.465294</td>\n",
       "      <td>0.000008</td>\n",
       "      <td>0.000384</td>\n",
       "    </tr>\n",
       "    <tr>\n",
       "      <th>1</th>\n",
       "      <td>Sergef</td>\n",
       "      <td>206.136593</td>\n",
       "      <td>-0.274369</td>\n",
       "      <td>0.252856</td>\n",
       "      <td>-1.085081</td>\n",
       "      <td>0.277886</td>\n",
       "      <td>0.612285</td>\n",
       "    </tr>\n",
       "    <tr>\n",
       "      <th>2</th>\n",
       "      <td>Fam109a</td>\n",
       "      <td>101.663032</td>\n",
       "      <td>-0.161685</td>\n",
       "      <td>0.362171</td>\n",
       "      <td>-0.446432</td>\n",
       "      <td>0.655285</td>\n",
       "      <td>0.872351</td>\n",
       "    </tr>\n",
       "    <tr>\n",
       "      <th>3</th>\n",
       "      <td>Dhx9</td>\n",
       "      <td>9185.686147</td>\n",
       "      <td>0.040629</td>\n",
       "      <td>0.094852</td>\n",
       "      <td>0.428343</td>\n",
       "      <td>0.668402</td>\n",
       "      <td>0.879254</td>\n",
       "    </tr>\n",
       "    <tr>\n",
       "      <th>4</th>\n",
       "      <td>Ssu72</td>\n",
       "      <td>2278.108440</td>\n",
       "      <td>0.068772</td>\n",
       "      <td>0.124116</td>\n",
       "      <td>0.554092</td>\n",
       "      <td>0.579516</td>\n",
       "      <td>0.831798</td>\n",
       "    </tr>\n",
       "    <tr>\n",
       "      <th>...</th>\n",
       "      <td>...</td>\n",
       "      <td>...</td>\n",
       "      <td>...</td>\n",
       "      <td>...</td>\n",
       "      <td>...</td>\n",
       "      <td>...</td>\n",
       "      <td>...</td>\n",
       "    </tr>\n",
       "    <tr>\n",
       "      <th>14118</th>\n",
       "      <td>Gosr1</td>\n",
       "      <td>2355.073538</td>\n",
       "      <td>-0.025521</td>\n",
       "      <td>0.093632</td>\n",
       "      <td>-0.272569</td>\n",
       "      <td>0.785184</td>\n",
       "      <td>0.930004</td>\n",
       "    </tr>\n",
       "    <tr>\n",
       "      <th>14119</th>\n",
       "      <td>Ctsw</td>\n",
       "      <td>1654.956072</td>\n",
       "      <td>-0.556243</td>\n",
       "      <td>0.114974</td>\n",
       "      <td>-4.837986</td>\n",
       "      <td>0.000001</td>\n",
       "      <td>0.000078</td>\n",
       "    </tr>\n",
       "    <tr>\n",
       "      <th>14120</th>\n",
       "      <td>Ryk</td>\n",
       "      <td>3.396460</td>\n",
       "      <td>0.683489</td>\n",
       "      <td>1.966115</td>\n",
       "      <td>0.347634</td>\n",
       "      <td>0.728115</td>\n",
       "      <td>NaN</td>\n",
       "    </tr>\n",
       "    <tr>\n",
       "      <th>14121</th>\n",
       "      <td>Pxmp4</td>\n",
       "      <td>622.128375</td>\n",
       "      <td>-0.225802</td>\n",
       "      <td>0.174661</td>\n",
       "      <td>-1.292803</td>\n",
       "      <td>0.196079</td>\n",
       "      <td>0.522091</td>\n",
       "    </tr>\n",
       "    <tr>\n",
       "      <th>14122</th>\n",
       "      <td>Prss39</td>\n",
       "      <td>1.529192</td>\n",
       "      <td>4.146874</td>\n",
       "      <td>2.789076</td>\n",
       "      <td>1.486827</td>\n",
       "      <td>0.137060</td>\n",
       "      <td>NaN</td>\n",
       "    </tr>\n",
       "  </tbody>\n",
       "</table>\n",
       "<p>14123 rows × 7 columns</p>\n",
       "</div>"
      ],
      "text/plain": [
       "      Unnamed: 0     baseMean  log2FoldChange     lfcSE      stat    pvalue  \\\n",
       "0          Itm2a  2810.834571        0.561452  0.125737  4.465294  0.000008   \n",
       "1         Sergef   206.136593       -0.274369  0.252856 -1.085081  0.277886   \n",
       "2        Fam109a   101.663032       -0.161685  0.362171 -0.446432  0.655285   \n",
       "3           Dhx9  9185.686147        0.040629  0.094852  0.428343  0.668402   \n",
       "4          Ssu72  2278.108440        0.068772  0.124116  0.554092  0.579516   \n",
       "...          ...          ...             ...       ...       ...       ...   \n",
       "14118      Gosr1  2355.073538       -0.025521  0.093632 -0.272569  0.785184   \n",
       "14119       Ctsw  1654.956072       -0.556243  0.114974 -4.837986  0.000001   \n",
       "14120        Ryk     3.396460        0.683489  1.966115  0.347634  0.728115   \n",
       "14121      Pxmp4   622.128375       -0.225802  0.174661 -1.292803  0.196079   \n",
       "14122     Prss39     1.529192        4.146874  2.789076  1.486827  0.137060   \n",
       "\n",
       "           padj  \n",
       "0      0.000384  \n",
       "1      0.612285  \n",
       "2      0.872351  \n",
       "3      0.879254  \n",
       "4      0.831798  \n",
       "...         ...  \n",
       "14118  0.930004  \n",
       "14119  0.000078  \n",
       "14120       NaN  \n",
       "14121  0.522091  \n",
       "14122       NaN  \n",
       "\n",
       "[14123 rows x 7 columns]"
      ]
     },
     "execution_count": 147,
     "metadata": {},
     "output_type": "execute_result"
    }
   ],
   "source": [
    "data_to_plot"
   ]
  },
  {
   "cell_type": "code",
   "execution_count": 148,
   "metadata": {},
   "outputs": [],
   "source": [
    "data_to_plot.columns = ['gene', 'baseMean', 'log2FoldChange', 'lfcSE', 'stat', 'pvalue', 'padj']\n"
   ]
  },
  {
   "cell_type": "code",
   "execution_count": 149,
   "metadata": {},
   "outputs": [
    {
     "name": "stderr",
     "output_type": "stream",
     "text": [
      "/wynton/home/ye/emccarthy/miniconda3/envs/deseq/lib/python3.7/site-packages/ipykernel_launcher.py:3: SettingWithCopyWarning: \n",
      "A value is trying to be set on a copy of a slice from a DataFrame.\n",
      "Try using .loc[row_indexer,col_indexer] = value instead\n",
      "\n",
      "See the caveats in the documentation: https://pandas.pydata.org/pandas-docs/stable/user_guide/indexing.html#returning-a-view-versus-a-copy\n",
      "  This is separate from the ipykernel package so we can avoid doing imports until\n",
      "/wynton/home/ye/emccarthy/miniconda3/envs/deseq/lib/python3.7/site-packages/ipykernel_launcher.py:4: SettingWithCopyWarning: \n",
      "A value is trying to be set on a copy of a slice from a DataFrame.\n",
      "Try using .loc[row_indexer,col_indexer] = value instead\n",
      "\n",
      "See the caveats in the documentation: https://pandas.pydata.org/pandas-docs/stable/user_guide/indexing.html#returning-a-view-versus-a-copy\n",
      "  after removing the cwd from sys.path.\n"
     ]
    }
   ],
   "source": [
    "import math\n",
    "data_to_plot = data_to_plot[[not math.isnan(x) for x in data_to_plot['padj']]]\n",
    "data_to_plot['logpvalue'] = [-np.log10(x) for x in data_to_plot['padj']]\n",
    "data_to_plot['log2FoldChange_rev'] = [-x for x in data_to_plot['log2FoldChange']]"
   ]
  },
  {
   "cell_type": "code",
   "execution_count": 150,
   "metadata": {},
   "outputs": [],
   "source": [
    "gene_modules = pd.read_csv(\"results/bulk_RNA_seq/data_S2_heatmap_gene_list_with_modules.csv\")"
   ]
  },
  {
   "cell_type": "code",
   "execution_count": 151,
   "metadata": {},
   "outputs": [
    {
     "data": {
      "text/html": [
       "<div>\n",
       "<style scoped>\n",
       "    .dataframe tbody tr th:only-of-type {\n",
       "        vertical-align: middle;\n",
       "    }\n",
       "\n",
       "    .dataframe tbody tr th {\n",
       "        vertical-align: top;\n",
       "    }\n",
       "\n",
       "    .dataframe thead th {\n",
       "        text-align: right;\n",
       "    }\n",
       "</style>\n",
       "<table border=\"1\" class=\"dataframe\">\n",
       "  <thead>\n",
       "    <tr style=\"text-align: right;\">\n",
       "      <th></th>\n",
       "      <th>gene</th>\n",
       "      <th>module</th>\n",
       "    </tr>\n",
       "  </thead>\n",
       "  <tbody>\n",
       "    <tr>\n",
       "      <th>0</th>\n",
       "      <td>Il9r</td>\n",
       "      <td>6</td>\n",
       "    </tr>\n",
       "    <tr>\n",
       "      <th>1</th>\n",
       "      <td>H2A</td>\n",
       "      <td>6</td>\n",
       "    </tr>\n",
       "    <tr>\n",
       "      <th>2</th>\n",
       "      <td>9030025P20Rik</td>\n",
       "      <td>6</td>\n",
       "    </tr>\n",
       "    <tr>\n",
       "      <th>3</th>\n",
       "      <td>Cish</td>\n",
       "      <td>6</td>\n",
       "    </tr>\n",
       "    <tr>\n",
       "      <th>4</th>\n",
       "      <td>1700047I17Rik2</td>\n",
       "      <td>6</td>\n",
       "    </tr>\n",
       "    <tr>\n",
       "      <th>...</th>\n",
       "      <td>...</td>\n",
       "      <td>...</td>\n",
       "    </tr>\n",
       "    <tr>\n",
       "      <th>986</th>\n",
       "      <td>H2-Q7</td>\n",
       "      <td>5</td>\n",
       "    </tr>\n",
       "    <tr>\n",
       "      <th>987</th>\n",
       "      <td>Itga7</td>\n",
       "      <td>5</td>\n",
       "    </tr>\n",
       "    <tr>\n",
       "      <th>988</th>\n",
       "      <td>AK190531</td>\n",
       "      <td>5</td>\n",
       "    </tr>\n",
       "    <tr>\n",
       "      <th>989</th>\n",
       "      <td>Gm5547</td>\n",
       "      <td>5</td>\n",
       "    </tr>\n",
       "    <tr>\n",
       "      <th>990</th>\n",
       "      <td>Tcp11l1</td>\n",
       "      <td>5</td>\n",
       "    </tr>\n",
       "  </tbody>\n",
       "</table>\n",
       "<p>991 rows × 2 columns</p>\n",
       "</div>"
      ],
      "text/plain": [
       "               gene  module\n",
       "0              Il9r       6\n",
       "1               H2A       6\n",
       "2     9030025P20Rik       6\n",
       "3              Cish       6\n",
       "4    1700047I17Rik2       6\n",
       "..              ...     ...\n",
       "986           H2-Q7       5\n",
       "987           Itga7       5\n",
       "988        AK190531       5\n",
       "989          Gm5547       5\n",
       "990         Tcp11l1       5\n",
       "\n",
       "[991 rows x 2 columns]"
      ]
     },
     "execution_count": 151,
     "metadata": {},
     "output_type": "execute_result"
    }
   ],
   "source": [
    "gene_modules"
   ]
  },
  {
   "cell_type": "code",
   "execution_count": 152,
   "metadata": {},
   "outputs": [
    {
     "name": "stderr",
     "output_type": "stream",
     "text": [
      "/wynton/home/ye/emccarthy/miniconda3/envs/deseq/lib/python3.7/site-packages/ipykernel_launcher.py:3: SettingWithCopyWarning: \n",
      "A value is trying to be set on a copy of a slice from a DataFrame.\n",
      "Try using .loc[row_indexer,col_indexer] = value instead\n",
      "\n",
      "See the caveats in the documentation: https://pandas.pydata.org/pandas-docs/stable/user_guide/indexing.html#returning-a-view-versus-a-copy\n",
      "  This is separate from the ipykernel package so we can avoid doing imports until\n"
     ]
    },
    {
     "data": {
      "text/html": [
       "<div>\n",
       "<style scoped>\n",
       "    .dataframe tbody tr th:only-of-type {\n",
       "        vertical-align: middle;\n",
       "    }\n",
       "\n",
       "    .dataframe tbody tr th {\n",
       "        vertical-align: top;\n",
       "    }\n",
       "\n",
       "    .dataframe thead th {\n",
       "        text-align: right;\n",
       "    }\n",
       "</style>\n",
       "<table border=\"1\" class=\"dataframe\">\n",
       "  <thead>\n",
       "    <tr style=\"text-align: right;\">\n",
       "      <th></th>\n",
       "      <th>gene</th>\n",
       "      <th>baseMean</th>\n",
       "      <th>log2FoldChange</th>\n",
       "      <th>lfcSE</th>\n",
       "      <th>stat</th>\n",
       "      <th>pvalue</th>\n",
       "      <th>padj</th>\n",
       "      <th>logpvalue</th>\n",
       "      <th>log2FoldChange_rev</th>\n",
       "      <th>module</th>\n",
       "    </tr>\n",
       "  </thead>\n",
       "  <tbody>\n",
       "    <tr>\n",
       "      <th>236</th>\n",
       "      <td>Ptgir</td>\n",
       "      <td>288.558602</td>\n",
       "      <td>1.503610</td>\n",
       "      <td>0.239237</td>\n",
       "      <td>6.285018</td>\n",
       "      <td>3.278160e-10</td>\n",
       "      <td>4.430251e-08</td>\n",
       "      <td>7.353572</td>\n",
       "      <td>-1.503610</td>\n",
       "      <td>2</td>\n",
       "    </tr>\n",
       "    <tr>\n",
       "      <th>262</th>\n",
       "      <td>Il2ra</td>\n",
       "      <td>545.439716</td>\n",
       "      <td>-1.194516</td>\n",
       "      <td>0.167190</td>\n",
       "      <td>-7.144655</td>\n",
       "      <td>9.022235e-13</td>\n",
       "      <td>1.859957e-10</td>\n",
       "      <td>9.730497</td>\n",
       "      <td>1.194516</td>\n",
       "      <td>6</td>\n",
       "    </tr>\n",
       "    <tr>\n",
       "      <th>497</th>\n",
       "      <td>AK148204</td>\n",
       "      <td>15.465937</td>\n",
       "      <td>-7.315035</td>\n",
       "      <td>1.430091</td>\n",
       "      <td>-5.115084</td>\n",
       "      <td>3.136008e-07</td>\n",
       "      <td>2.297787e-05</td>\n",
       "      <td>4.638690</td>\n",
       "      <td>7.315035</td>\n",
       "      <td>5</td>\n",
       "    </tr>\n",
       "    <tr>\n",
       "      <th>797</th>\n",
       "      <td>Gpr55</td>\n",
       "      <td>63.401044</td>\n",
       "      <td>-1.902088</td>\n",
       "      <td>0.459783</td>\n",
       "      <td>-4.136927</td>\n",
       "      <td>3.519878e-05</td>\n",
       "      <td>1.329574e-03</td>\n",
       "      <td>2.876288</td>\n",
       "      <td>1.902088</td>\n",
       "      <td>1</td>\n",
       "    </tr>\n",
       "    <tr>\n",
       "      <th>799</th>\n",
       "      <td>Cst7</td>\n",
       "      <td>267.372988</td>\n",
       "      <td>-1.094459</td>\n",
       "      <td>0.215711</td>\n",
       "      <td>-5.073721</td>\n",
       "      <td>3.901113e-07</td>\n",
       "      <td>2.783715e-05</td>\n",
       "      <td>4.555375</td>\n",
       "      <td>1.094459</td>\n",
       "      <td>5</td>\n",
       "    </tr>\n",
       "    <tr>\n",
       "      <th>...</th>\n",
       "      <td>...</td>\n",
       "      <td>...</td>\n",
       "      <td>...</td>\n",
       "      <td>...</td>\n",
       "      <td>...</td>\n",
       "      <td>...</td>\n",
       "      <td>...</td>\n",
       "      <td>...</td>\n",
       "      <td>...</td>\n",
       "      <td>...</td>\n",
       "    </tr>\n",
       "    <tr>\n",
       "      <th>13965</th>\n",
       "      <td>AK190531</td>\n",
       "      <td>131.988628</td>\n",
       "      <td>1.438275</td>\n",
       "      <td>0.352137</td>\n",
       "      <td>4.084424</td>\n",
       "      <td>4.418625e-05</td>\n",
       "      <td>1.602115e-03</td>\n",
       "      <td>2.795306</td>\n",
       "      <td>-1.438275</td>\n",
       "      <td>5</td>\n",
       "    </tr>\n",
       "    <tr>\n",
       "      <th>13973</th>\n",
       "      <td>Spsb1</td>\n",
       "      <td>1175.825016</td>\n",
       "      <td>-1.078804</td>\n",
       "      <td>0.115518</td>\n",
       "      <td>-9.338856</td>\n",
       "      <td>9.738052e-21</td>\n",
       "      <td>4.386812e-18</td>\n",
       "      <td>17.357851</td>\n",
       "      <td>1.078804</td>\n",
       "      <td>3</td>\n",
       "    </tr>\n",
       "    <tr>\n",
       "      <th>13974</th>\n",
       "      <td>Ptprf</td>\n",
       "      <td>315.775874</td>\n",
       "      <td>1.147714</td>\n",
       "      <td>0.296672</td>\n",
       "      <td>3.868627</td>\n",
       "      <td>1.094498e-04</td>\n",
       "      <td>3.303321e-03</td>\n",
       "      <td>2.481049</td>\n",
       "      <td>-1.147714</td>\n",
       "      <td>2</td>\n",
       "    </tr>\n",
       "    <tr>\n",
       "      <th>14009</th>\n",
       "      <td>Wnt10a</td>\n",
       "      <td>15.176575</td>\n",
       "      <td>-2.636336</td>\n",
       "      <td>0.888221</td>\n",
       "      <td>-2.968109</td>\n",
       "      <td>2.996376e-03</td>\n",
       "      <td>4.302824e-02</td>\n",
       "      <td>1.366246</td>\n",
       "      <td>2.636336</td>\n",
       "      <td>1</td>\n",
       "    </tr>\n",
       "    <tr>\n",
       "      <th>14084</th>\n",
       "      <td>C1qtnf6</td>\n",
       "      <td>52.841121</td>\n",
       "      <td>-1.953528</td>\n",
       "      <td>0.548634</td>\n",
       "      <td>-3.560714</td>\n",
       "      <td>3.698471e-04</td>\n",
       "      <td>8.563250e-03</td>\n",
       "      <td>2.067361</td>\n",
       "      <td>1.953528</td>\n",
       "      <td>1</td>\n",
       "    </tr>\n",
       "  </tbody>\n",
       "</table>\n",
       "<p>260 rows × 10 columns</p>\n",
       "</div>"
      ],
      "text/plain": [
       "           gene     baseMean  log2FoldChange     lfcSE      stat  \\\n",
       "236       Ptgir   288.558602        1.503610  0.239237  6.285018   \n",
       "262       Il2ra   545.439716       -1.194516  0.167190 -7.144655   \n",
       "497    AK148204    15.465937       -7.315035  1.430091 -5.115084   \n",
       "797       Gpr55    63.401044       -1.902088  0.459783 -4.136927   \n",
       "799        Cst7   267.372988       -1.094459  0.215711 -5.073721   \n",
       "...         ...          ...             ...       ...       ...   \n",
       "13965  AK190531   131.988628        1.438275  0.352137  4.084424   \n",
       "13973     Spsb1  1175.825016       -1.078804  0.115518 -9.338856   \n",
       "13974     Ptprf   315.775874        1.147714  0.296672  3.868627   \n",
       "14009    Wnt10a    15.176575       -2.636336  0.888221 -2.968109   \n",
       "14084   C1qtnf6    52.841121       -1.953528  0.548634 -3.560714   \n",
       "\n",
       "             pvalue          padj  logpvalue  log2FoldChange_rev  module  \n",
       "236    3.278160e-10  4.430251e-08   7.353572           -1.503610       2  \n",
       "262    9.022235e-13  1.859957e-10   9.730497            1.194516       6  \n",
       "497    3.136008e-07  2.297787e-05   4.638690            7.315035       5  \n",
       "797    3.519878e-05  1.329574e-03   2.876288            1.902088       1  \n",
       "799    3.901113e-07  2.783715e-05   4.555375            1.094459       5  \n",
       "...             ...           ...        ...                 ...     ...  \n",
       "13965  4.418625e-05  1.602115e-03   2.795306           -1.438275       5  \n",
       "13973  9.738052e-21  4.386812e-18  17.357851            1.078804       3  \n",
       "13974  1.094498e-04  3.303321e-03   2.481049           -1.147714       2  \n",
       "14009  2.996376e-03  4.302824e-02   1.366246            2.636336       1  \n",
       "14084  3.698471e-04  8.563250e-03   2.067361            1.953528       1  \n",
       "\n",
       "[260 rows x 10 columns]"
      ]
     },
     "execution_count": 152,
     "metadata": {},
     "output_type": "execute_result"
    }
   ],
   "source": [
    "data_subset = data_to_plot[[abs(x) > 1 and y > -np.log10(0.05) for x,y in zip(data_to_plot['log2FoldChange_rev'],data_to_plot['logpvalue'])]]\n",
    "gene_module_dict = {x:y for x,y in zip(gene_modules['gene'], gene_modules['module'])}\n",
    "data_subset['module'] = [gene_module_dict[x] for x in data_subset['gene']]\n",
    "data_subset"
   ]
  },
  {
   "cell_type": "code",
   "execution_count": 122,
   "metadata": {},
   "outputs": [
    {
     "data": {
      "image/png": "[encoded data removed]",
      "text/plain": [
       "<Figure size 504x504 with 1 Axes>"
      ]
     },
     "metadata": {
      "needs_background": "light"
     },
     "output_type": "display_data"
    }
   ],
   "source": [
    "import matplotlib\n",
    "matplotlib.rc('axes',edgecolor='black')\n",
    "plt.figure(figsize = (7,7)) \n",
    "plt.rcParams['axes.facecolor']='white'\n",
    "\n",
    "modules, counts = np.unique(data_subset[[x > 0 for x in data_subset['log2FoldChange_rev']]]['module'], return_counts = True)\n",
    "module_dict = {x:y for x,y in zip(modules, counts)}\n",
    "\n",
    "module_numbers = [1,2,3,4,5,6]\n",
    "skg_counts = [module_dict.get(x,0) for x in module_numbers]\n",
    "\n",
    "modules, counts = np.unique(data_subset[[x < 0 for x in data_subset['log2FoldChange_rev']]]['module'], return_counts = True)\n",
    "module_dict = {x:y for x,y in zip(modules, counts)}\n",
    "\n",
    "module_numbers = [1,2,3,4,5,6]\n",
    "wt_counts = [module_dict.get(x,0) for x in module_numbers]\n",
    "\n",
    "module_color_dict = {1:\"#984EA3\",\n",
    "  2:\"#F781BF\",\n",
    "   3:\"#386CB0\",\n",
    "    4:\"#F0027F\",\n",
    "   5:\"#BF5B17\",\n",
    "    6:\"#FDC086\"}\n",
    "bar_colors = [module_color_dict[x] for x in module_numbers]\n",
    "\n",
    "\n",
    "\n",
    "# Make the plot\n",
    "barWidth = 0.25\n",
    "bars1 = wt_counts\n",
    "bars2 = skg_counts\n",
    "\n",
    "# Set position of bar on X axis\n",
    "r1 = np.arange(len(bars1) + len(bars2))\n",
    "#r2 = [x + barWidth for x in r1]\n",
    "    \n",
    "plt.bar(r1, bars1+bars2, color=bar_colors+bar_colors, width=0.75, edgecolor='white')\n",
    "plt.xticks(range(len(bars1) + len(bars2)), [\"1\",\"2\",\"3\",\"4\",\"5\",\"6\"]+ [\"1\",\"2\",\"3\",\"4\",\"5\",\"6\"], size = 20)\n",
    "plt.yticks(size = 20)\n",
    "\n",
    "plt.ylabel(\"# of genes\", size = 20)\n",
    "\n",
    "#plt.legend( bbox_to_anchor = (1.05,1), loc =2, prop={'size': 20})\n",
    "#file_prefix = \"results/bulk_RNA_seq/\"\n",
    "#plt.savefig(file_prefix + \"fig_1_SKG_High_and_WT_high_sig_genes_module_breakdown_barplot.eps\", format=\"eps\")\n",
    "\n",
    "plt.show()\n",
    "plt.close()"
   ]
  },
  {
   "cell_type": "markdown",
   "metadata": {},
   "source": [
    "# Volcano plot SKG High v WT High"
   ]
  },
  {
   "cell_type": "code",
   "execution_count": 123,
   "metadata": {},
   "outputs": [],
   "source": [
    "gene_list_to_label = pd.read_csv(\"results/bulk_RNA_seq/Gene_list_for_heatmap_2021_02_v1.csv\")"
   ]
  },
  {
   "cell_type": "code",
   "execution_count": 125,
   "metadata": {},
   "outputs": [],
   "source": [
    "gene_to_fc = {x:y for x,y in zip(data_to_plot['gene'],data_to_plot['log2FoldChange_rev'])}"
   ]
  },
  {
   "cell_type": "code",
   "execution_count": 126,
   "metadata": {},
   "outputs": [],
   "source": [
    "gene_to_pvalue = {x:y for x,y in zip(data_to_plot['gene'],data_to_plot['logpvalue'])}"
   ]
  },
  {
   "cell_type": "code",
   "execution_count": 127,
   "metadata": {},
   "outputs": [],
   "source": [
    "gene_list_to_label['logfc'] = [gene_to_fc[x] for x in gene_list_to_label['V1']]"
   ]
  },
  {
   "cell_type": "code",
   "execution_count": 128,
   "metadata": {},
   "outputs": [],
   "source": [
    "gene_list_to_label['logpvalue'] = [gene_to_pvalue[x] for x in gene_list_to_label['V1']]"
   ]
  },
  {
   "cell_type": "code",
   "execution_count": 129,
   "metadata": {},
   "outputs": [
    {
     "data": {
      "text/html": [
       "<div>\n",
       "<style scoped>\n",
       "    .dataframe tbody tr th:only-of-type {\n",
       "        vertical-align: middle;\n",
       "    }\n",
       "\n",
       "    .dataframe tbody tr th {\n",
       "        vertical-align: top;\n",
       "    }\n",
       "\n",
       "    .dataframe thead th {\n",
       "        text-align: right;\n",
       "    }\n",
       "</style>\n",
       "<table border=\"1\" class=\"dataframe\">\n",
       "  <thead>\n",
       "    <tr style=\"text-align: right;\">\n",
       "      <th></th>\n",
       "      <th>V1</th>\n",
       "      <th>module</th>\n",
       "      <th>logfc</th>\n",
       "      <th>logpvalue</th>\n",
       "    </tr>\n",
       "  </thead>\n",
       "  <tbody>\n",
       "    <tr>\n",
       "      <th>0</th>\n",
       "      <td>Cdkn2c</td>\n",
       "      <td>1</td>\n",
       "      <td>0.987918</td>\n",
       "      <td>0.974265</td>\n",
       "    </tr>\n",
       "    <tr>\n",
       "      <th>1</th>\n",
       "      <td>Cdca3</td>\n",
       "      <td>1</td>\n",
       "      <td>1.060105</td>\n",
       "      <td>1.086640</td>\n",
       "    </tr>\n",
       "    <tr>\n",
       "      <th>2</th>\n",
       "      <td>Tacc3</td>\n",
       "      <td>1</td>\n",
       "      <td>0.570919</td>\n",
       "      <td>0.710555</td>\n",
       "    </tr>\n",
       "    <tr>\n",
       "      <th>3</th>\n",
       "      <td>Foxp3</td>\n",
       "      <td>1</td>\n",
       "      <td>1.283628</td>\n",
       "      <td>14.382750</td>\n",
       "    </tr>\n",
       "    <tr>\n",
       "      <th>4</th>\n",
       "      <td>Ctla4</td>\n",
       "      <td>1</td>\n",
       "      <td>0.818998</td>\n",
       "      <td>1.815073</td>\n",
       "    </tr>\n",
       "    <tr>\n",
       "      <th>5</th>\n",
       "      <td>Tigit</td>\n",
       "      <td>1</td>\n",
       "      <td>1.978242</td>\n",
       "      <td>0.964506</td>\n",
       "    </tr>\n",
       "    <tr>\n",
       "      <th>6</th>\n",
       "      <td>Gzmm</td>\n",
       "      <td>1</td>\n",
       "      <td>2.228687</td>\n",
       "      <td>2.081750</td>\n",
       "    </tr>\n",
       "    <tr>\n",
       "      <th>7</th>\n",
       "      <td>Gzmb</td>\n",
       "      <td>1</td>\n",
       "      <td>2.270279</td>\n",
       "      <td>2.206555</td>\n",
       "    </tr>\n",
       "    <tr>\n",
       "      <th>8</th>\n",
       "      <td>Icos</td>\n",
       "      <td>1</td>\n",
       "      <td>0.215827</td>\n",
       "      <td>0.323878</td>\n",
       "    </tr>\n",
       "    <tr>\n",
       "      <th>9</th>\n",
       "      <td>Irf4</td>\n",
       "      <td>1</td>\n",
       "      <td>0.464777</td>\n",
       "      <td>1.866593</td>\n",
       "    </tr>\n",
       "    <tr>\n",
       "      <th>10</th>\n",
       "      <td>Nrp1</td>\n",
       "      <td>1</td>\n",
       "      <td>2.069868</td>\n",
       "      <td>14.951679</td>\n",
       "    </tr>\n",
       "    <tr>\n",
       "      <th>11</th>\n",
       "      <td>Cxcr5</td>\n",
       "      <td>1</td>\n",
       "      <td>0.810472</td>\n",
       "      <td>2.356871</td>\n",
       "    </tr>\n",
       "    <tr>\n",
       "      <th>12</th>\n",
       "      <td>Mki67</td>\n",
       "      <td>1</td>\n",
       "      <td>1.229194</td>\n",
       "      <td>7.448863</td>\n",
       "    </tr>\n",
       "    <tr>\n",
       "      <th>13</th>\n",
       "      <td>Kit</td>\n",
       "      <td>1</td>\n",
       "      <td>0.416569</td>\n",
       "      <td>0.276548</td>\n",
       "    </tr>\n",
       "    <tr>\n",
       "      <th>14</th>\n",
       "      <td>Tnfsf11</td>\n",
       "      <td>2</td>\n",
       "      <td>0.289213</td>\n",
       "      <td>0.106597</td>\n",
       "    </tr>\n",
       "    <tr>\n",
       "      <th>15</th>\n",
       "      <td>Vav2</td>\n",
       "      <td>2</td>\n",
       "      <td>-0.238149</td>\n",
       "      <td>0.176635</td>\n",
       "    </tr>\n",
       "    <tr>\n",
       "      <th>16</th>\n",
       "      <td>Ndrg1</td>\n",
       "      <td>2</td>\n",
       "      <td>-0.687740</td>\n",
       "      <td>3.700056</td>\n",
       "    </tr>\n",
       "    <tr>\n",
       "      <th>17</th>\n",
       "      <td>Il17rb</td>\n",
       "      <td>2</td>\n",
       "      <td>-0.295314</td>\n",
       "      <td>0.043125</td>\n",
       "    </tr>\n",
       "    <tr>\n",
       "      <th>18</th>\n",
       "      <td>Lag3</td>\n",
       "      <td>2</td>\n",
       "      <td>0.525656</td>\n",
       "      <td>1.052654</td>\n",
       "    </tr>\n",
       "    <tr>\n",
       "      <th>19</th>\n",
       "      <td>Nr4a3</td>\n",
       "      <td>2</td>\n",
       "      <td>-0.381606</td>\n",
       "      <td>0.615873</td>\n",
       "    </tr>\n",
       "    <tr>\n",
       "      <th>20</th>\n",
       "      <td>Nr4a1</td>\n",
       "      <td>2</td>\n",
       "      <td>-0.480394</td>\n",
       "      <td>1.962186</td>\n",
       "    </tr>\n",
       "    <tr>\n",
       "      <th>21</th>\n",
       "      <td>Ikzf3</td>\n",
       "      <td>2</td>\n",
       "      <td>-0.250629</td>\n",
       "      <td>0.790261</td>\n",
       "    </tr>\n",
       "    <tr>\n",
       "      <th>22</th>\n",
       "      <td>Pdcd1</td>\n",
       "      <td>2</td>\n",
       "      <td>-0.403464</td>\n",
       "      <td>0.489755</td>\n",
       "    </tr>\n",
       "    <tr>\n",
       "      <th>23</th>\n",
       "      <td>Tnfrsf9</td>\n",
       "      <td>2</td>\n",
       "      <td>-0.705097</td>\n",
       "      <td>1.596715</td>\n",
       "    </tr>\n",
       "    <tr>\n",
       "      <th>24</th>\n",
       "      <td>Tnfrsf4</td>\n",
       "      <td>2</td>\n",
       "      <td>-0.312005</td>\n",
       "      <td>0.467033</td>\n",
       "    </tr>\n",
       "    <tr>\n",
       "      <th>25</th>\n",
       "      <td>Cd5</td>\n",
       "      <td>2</td>\n",
       "      <td>-0.795941</td>\n",
       "      <td>26.668199</td>\n",
       "    </tr>\n",
       "    <tr>\n",
       "      <th>26</th>\n",
       "      <td>Il6st</td>\n",
       "      <td>2</td>\n",
       "      <td>-0.315303</td>\n",
       "      <td>4.359049</td>\n",
       "    </tr>\n",
       "    <tr>\n",
       "      <th>27</th>\n",
       "      <td>Folr4</td>\n",
       "      <td>2</td>\n",
       "      <td>-0.628288</td>\n",
       "      <td>6.683874</td>\n",
       "    </tr>\n",
       "    <tr>\n",
       "      <th>28</th>\n",
       "      <td>Tox</td>\n",
       "      <td>2</td>\n",
       "      <td>-0.150365</td>\n",
       "      <td>0.334311</td>\n",
       "    </tr>\n",
       "    <tr>\n",
       "      <th>29</th>\n",
       "      <td>Il21</td>\n",
       "      <td>2</td>\n",
       "      <td>-0.892621</td>\n",
       "      <td>0.262975</td>\n",
       "    </tr>\n",
       "    <tr>\n",
       "      <th>30</th>\n",
       "      <td>Pdcd1lg2</td>\n",
       "      <td>2</td>\n",
       "      <td>-0.303290</td>\n",
       "      <td>0.067994</td>\n",
       "    </tr>\n",
       "    <tr>\n",
       "      <th>31</th>\n",
       "      <td>Ccr4</td>\n",
       "      <td>3</td>\n",
       "      <td>2.489907</td>\n",
       "      <td>11.872898</td>\n",
       "    </tr>\n",
       "    <tr>\n",
       "      <th>32</th>\n",
       "      <td>Ccr6</td>\n",
       "      <td>3</td>\n",
       "      <td>1.212798</td>\n",
       "      <td>0.262999</td>\n",
       "    </tr>\n",
       "    <tr>\n",
       "      <th>33</th>\n",
       "      <td>Thy1</td>\n",
       "      <td>3</td>\n",
       "      <td>0.680855</td>\n",
       "      <td>13.048511</td>\n",
       "    </tr>\n",
       "    <tr>\n",
       "      <th>34</th>\n",
       "      <td>Tubb2b</td>\n",
       "      <td>3</td>\n",
       "      <td>-0.455830</td>\n",
       "      <td>0.346540</td>\n",
       "    </tr>\n",
       "    <tr>\n",
       "      <th>35</th>\n",
       "      <td>Dtx1</td>\n",
       "      <td>4</td>\n",
       "      <td>0.385477</td>\n",
       "      <td>3.474204</td>\n",
       "    </tr>\n",
       "    <tr>\n",
       "      <th>36</th>\n",
       "      <td>Cxcr4</td>\n",
       "      <td>4</td>\n",
       "      <td>-0.074591</td>\n",
       "      <td>0.066661</td>\n",
       "    </tr>\n",
       "    <tr>\n",
       "      <th>37</th>\n",
       "      <td>Egr1</td>\n",
       "      <td>4</td>\n",
       "      <td>-1.096024</td>\n",
       "      <td>11.968936</td>\n",
       "    </tr>\n",
       "    <tr>\n",
       "      <th>38</th>\n",
       "      <td>Egr2</td>\n",
       "      <td>4</td>\n",
       "      <td>-0.895266</td>\n",
       "      <td>4.292695</td>\n",
       "    </tr>\n",
       "    <tr>\n",
       "      <th>39</th>\n",
       "      <td>Egr3</td>\n",
       "      <td>4</td>\n",
       "      <td>-0.929377</td>\n",
       "      <td>8.743775</td>\n",
       "    </tr>\n",
       "    <tr>\n",
       "      <th>40</th>\n",
       "      <td>Cxcr3</td>\n",
       "      <td>4</td>\n",
       "      <td>1.441727</td>\n",
       "      <td>3.415214</td>\n",
       "    </tr>\n",
       "    <tr>\n",
       "      <th>41</th>\n",
       "      <td>Fosb</td>\n",
       "      <td>4</td>\n",
       "      <td>-1.453372</td>\n",
       "      <td>0.704171</td>\n",
       "    </tr>\n",
       "    <tr>\n",
       "      <th>42</th>\n",
       "      <td>Tbx21</td>\n",
       "      <td>4</td>\n",
       "      <td>0.884258</td>\n",
       "      <td>0.645778</td>\n",
       "    </tr>\n",
       "    <tr>\n",
       "      <th>43</th>\n",
       "      <td>H2-T3</td>\n",
       "      <td>5</td>\n",
       "      <td>0.196360</td>\n",
       "      <td>0.019822</td>\n",
       "    </tr>\n",
       "    <tr>\n",
       "      <th>44</th>\n",
       "      <td>Il7r</td>\n",
       "      <td>5</td>\n",
       "      <td>-0.274771</td>\n",
       "      <td>0.727076</td>\n",
       "    </tr>\n",
       "    <tr>\n",
       "      <th>45</th>\n",
       "      <td>Jun</td>\n",
       "      <td>5</td>\n",
       "      <td>-1.689163</td>\n",
       "      <td>1.858449</td>\n",
       "    </tr>\n",
       "    <tr>\n",
       "      <th>46</th>\n",
       "      <td>Fos</td>\n",
       "      <td>5</td>\n",
       "      <td>-2.296234</td>\n",
       "      <td>1.348867</td>\n",
       "    </tr>\n",
       "    <tr>\n",
       "      <th>47</th>\n",
       "      <td>Entpd1</td>\n",
       "      <td>6</td>\n",
       "      <td>1.792581</td>\n",
       "      <td>3.381995</td>\n",
       "    </tr>\n",
       "    <tr>\n",
       "      <th>48</th>\n",
       "      <td>Il2ra</td>\n",
       "      <td>6</td>\n",
       "      <td>1.194516</td>\n",
       "      <td>9.730497</td>\n",
       "    </tr>\n",
       "    <tr>\n",
       "      <th>49</th>\n",
       "      <td>Gzma</td>\n",
       "      <td>6</td>\n",
       "      <td>2.455329</td>\n",
       "      <td>4.635505</td>\n",
       "    </tr>\n",
       "    <tr>\n",
       "      <th>50</th>\n",
       "      <td>Nt5e</td>\n",
       "      <td>6</td>\n",
       "      <td>1.413033</td>\n",
       "      <td>13.226545</td>\n",
       "    </tr>\n",
       "    <tr>\n",
       "      <th>51</th>\n",
       "      <td>Tnfsf14</td>\n",
       "      <td>6</td>\n",
       "      <td>1.327512</td>\n",
       "      <td>2.412974</td>\n",
       "    </tr>\n",
       "  </tbody>\n",
       "</table>\n",
       "</div>"
      ],
      "text/plain": [
       "          V1  module     logfc  logpvalue\n",
       "0     Cdkn2c       1  0.987918   0.974265\n",
       "1      Cdca3       1  1.060105   1.086640\n",
       "2      Tacc3       1  0.570919   0.710555\n",
       "3      Foxp3       1  1.283628  14.382750\n",
       "4      Ctla4       1  0.818998   1.815073\n",
       "5      Tigit       1  1.978242   0.964506\n",
       "6       Gzmm       1  2.228687   2.081750\n",
       "7       Gzmb       1  2.270279   2.206555\n",
       "8       Icos       1  0.215827   0.323878\n",
       "9       Irf4       1  0.464777   1.866593\n",
       "10      Nrp1       1  2.069868  14.951679\n",
       "11     Cxcr5       1  0.810472   2.356871\n",
       "12     Mki67       1  1.229194   7.448863\n",
       "13       Kit       1  0.416569   0.276548\n",
       "14   Tnfsf11       2  0.289213   0.106597\n",
       "15      Vav2       2 -0.238149   0.176635\n",
       "16     Ndrg1       2 -0.687740   3.700056\n",
       "17    Il17rb       2 -0.295314   0.043125\n",
       "18      Lag3       2  0.525656   1.052654\n",
       "19     Nr4a3       2 -0.381606   0.615873\n",
       "20     Nr4a1       2 -0.480394   1.962186\n",
       "21     Ikzf3       2 -0.250629   0.790261\n",
       "22     Pdcd1       2 -0.403464   0.489755\n",
       "23   Tnfrsf9       2 -0.705097   1.596715\n",
       "24   Tnfrsf4       2 -0.312005   0.467033\n",
       "25       Cd5       2 -0.795941  26.668199\n",
       "26     Il6st       2 -0.315303   4.359049\n",
       "27     Folr4       2 -0.628288   6.683874\n",
       "28       Tox       2 -0.150365   0.334311\n",
       "29      Il21       2 -0.892621   0.262975\n",
       "30  Pdcd1lg2       2 -0.303290   0.067994\n",
       "31      Ccr4       3  2.489907  11.872898\n",
       "32      Ccr6       3  1.212798   0.262999\n",
       "33      Thy1       3  0.680855  13.048511\n",
       "34    Tubb2b       3 -0.455830   0.346540\n",
       "35      Dtx1       4  0.385477   3.474204\n",
       "36     Cxcr4       4 -0.074591   0.066661\n",
       "37      Egr1       4 -1.096024  11.968936\n",
       "38      Egr2       4 -0.895266   4.292695\n",
       "39      Egr3       4 -0.929377   8.743775\n",
       "40     Cxcr3       4  1.441727   3.415214\n",
       "41      Fosb       4 -1.453372   0.704171\n",
       "42     Tbx21       4  0.884258   0.645778\n",
       "43     H2-T3       5  0.196360   0.019822\n",
       "44      Il7r       5 -0.274771   0.727076\n",
       "45       Jun       5 -1.689163   1.858449\n",
       "46       Fos       5 -2.296234   1.348867\n",
       "47    Entpd1       6  1.792581   3.381995\n",
       "48     Il2ra       6  1.194516   9.730497\n",
       "49      Gzma       6  2.455329   4.635505\n",
       "50      Nt5e       6  1.413033  13.226545\n",
       "51   Tnfsf14       6  1.327512   2.412974"
      ]
     },
     "execution_count": 129,
     "metadata": {},
     "output_type": "execute_result"
    }
   ],
   "source": [
    "gene_list_to_label"
   ]
  },
  {
   "cell_type": "code",
   "execution_count": 130,
   "metadata": {},
   "outputs": [],
   "source": [
    "genes_to_label_left = list(gene_list_to_label[[x <-1 and y > -np.log10(0.05) for x,y in zip(gene_list_to_label['logfc'],gene_list_to_label['logpvalue'])]]['V1'])"
   ]
  },
  {
   "cell_type": "code",
   "execution_count": 131,
   "metadata": {},
   "outputs": [
    {
     "data": {
      "text/plain": [
       "3"
      ]
     },
     "execution_count": 131,
     "metadata": {},
     "output_type": "execute_result"
    }
   ],
   "source": [
    "len(genes_to_label_left)"
   ]
  },
  {
   "cell_type": "code",
   "execution_count": 132,
   "metadata": {},
   "outputs": [
    {
     "data": {
      "text/plain": [
       "['Egr1', 'Jun', 'Fos']"
      ]
     },
     "execution_count": 132,
     "metadata": {},
     "output_type": "execute_result"
    }
   ],
   "source": [
    "genes_to_label_left"
   ]
  },
  {
   "cell_type": "code",
   "execution_count": 133,
   "metadata": {},
   "outputs": [],
   "source": [
    "genes_to_label_right = list(gene_list_to_label[[x > 1 and y > -np.log10(0.05) for x,y in zip(gene_list_to_label['logfc'],gene_list_to_label['logpvalue'])]]['V1'])"
   ]
  },
  {
   "cell_type": "code",
   "execution_count": 134,
   "metadata": {},
   "outputs": [
    {
     "data": {
      "text/plain": [
       "12"
      ]
     },
     "execution_count": 134,
     "metadata": {},
     "output_type": "execute_result"
    }
   ],
   "source": [
    "len(genes_to_label_right)"
   ]
  },
  {
   "cell_type": "code",
   "execution_count": 154,
   "metadata": {},
   "outputs": [],
   "source": [
    "data_to_plot = data_to_plot.sort_values(by = 'log2FoldChange_rev')"
   ]
  },
  {
   "cell_type": "code",
   "execution_count": 157,
   "metadata": {},
   "outputs": [
    {
     "name": "stdout",
     "output_type": "stream",
     "text": [
      "['Dgkg', 'Fos', 'Jun', 'Egr1', 'Il2ra', 'Mki67', 'Foxp3', 'Tnfsf14', 'Nt5e', 'Cxcr3', 'Birc5', 'Entpd1', 'Nrp1', 'Gzmm', 'Gzmb', 'Gzma', 'Ccr4']\n"
     ]
    },
    {
     "data": {
      "image/png": "[encoded data removed]",
      "text/plain": [
       "<Figure size 504x504 with 1 Axes>"
      ]
     },
     "metadata": {
      "needs_background": "light"
     },
     "output_type": "display_data"
    }
   ],
   "source": [
    "#file_save_prefix = \"results/bulk_RNA_seq/\"\n",
    "\n",
    "plt.figure(figsize = (7,7)) \n",
    "module_colors = np.array( [\"blank\",\"#984EA3\",\n",
    "   \"#F781BF\",\n",
    "   \"#386CB0\",\n",
    "    \"#F0027F\",\n",
    "   \"#BF5B17\",\n",
    "    \"#FDC086\",\n",
    "                          \"lightgrey\"])\n",
    "colors = [module_colors[gene_module_dict.get(x,7)] if abs(y) > 1 and z > -np.log10(0.05) else \"lightgrey\" for x,y,z in zip(data_to_plot['gene'], data_to_plot['log2FoldChange_rev'], data_to_plot['logpvalue'])]\n",
    "colors_to_plot = list(module_colors[1:])\n",
    "colors_to_plot.reverse()\n",
    "\n",
    "for color in colors_to_plot:\n",
    "    subset_data = data_to_plot[[x == color for x in colors]]\n",
    "    plt.scatter(list(subset_data['log2FoldChange_rev']),list(subset_data['logpvalue']), s = 10, edgecolors=color, color =  color)\n",
    "\n",
    "\n",
    "plt.xlabel(\"Log base 2 Fold Change SKG High v WT High\", size = 12)\n",
    "plt.ylabel(\"-Log base 10 p value\", size = 12)\n",
    "# Label names and positions\n",
    "x = [i for i in data_to_plot['log2FoldChange_rev']]\n",
    "y = [i for i in data_to_plot['logpvalue']]\n",
    "labels_orig = data_to_plot[\"gene\"]\n",
    "\n",
    "genes_to_label = genes_to_label_left  +['Dgkg', \"Egr1\"] +genes_to_label_right + [ \"Birc5\"] #+ ['AK039536', 'Samd4','H2-Q6', 'Ceacam2','Zhx2','Spock2']\n",
    "\n",
    "to_keep = np.where([i in genes_to_label for i in labels_orig])[0]\n",
    "labels = list(np.array(labels_orig)[to_keep])\n",
    "color_subset = list(np.array(colors)[to_keep])\n",
    "print(labels)\n",
    "x = list(np.array(x)[to_keep])\n",
    "y = list(np.array(y)[to_keep])\n",
    "\n",
    "\n",
    "top_value = 60\n",
    "vert = [50,47,45,35,30,25,20,15,10] +[10]*14\n",
    "left_genes = {'Egr1':'left', 'Fosb':'left', 'Jun':'left', 'Fos':'left','Dgkg':'left','Egr1':'left'}\n",
    "amt_horiz_dict = {\"left\":-6, \"right\":7}\n",
    "amt_drop = -3\n",
    "\n",
    "vert_coord = [15,18,21 ,24 , 60, 45, #1-6\n",
    " 39,57 , 48,  24, 42,54 , #7-11\n",
    " 36, 33 ,30 , 51, 27] + [18,21 ,24 , 60, 45, #1-5\n",
    " 42,57 , 48,  27,54 , #6-10\n",
    " 39, 36 ,33 , 51, 30]#11-15\n",
    "\n",
    "\n",
    "   \n",
    "for i,txt in enumerate(labels):\n",
    "    plt.plot([x[i],amt_horiz_dict[left_genes.get(labels[i],'right')]],[y[i],vert_coord[i]], color = \"#6D6E71\", linewidth = 0.5)\n",
    "    t = plt.annotate(txt, (amt_horiz_dict[left_genes.get(labels[i],'right')], vert_coord[i]), size = 15, color = color_subset[i])\n",
    "                              \n",
    "    \n",
    "#plt.savefig(file_save_prefix + \"fig_1E_WT_high_v_SKG_high_volcano_plot_081021.svg\", format=\"svg\")\n",
    "\n",
    "plt.show()\n",
    "plt.close()"
   ]
  },
  {
   "cell_type": "code",
   "execution_count": 158,
   "metadata": {},
   "outputs": [
    {
     "name": "stdout",
     "output_type": "stream",
     "text": [
      "['AK039536', 'Samd4', 'H2-Q6', 'Zhx2', 'Spock2', 'Ceacam2']\n"
     ]
    },
    {
     "data": {
      "image/png": "[encoded data removed]",
      "text/plain": [
       "<Figure size 504x504 with 1 Axes>"
      ]
     },
     "metadata": {
      "needs_background": "light"
     },
     "output_type": "display_data"
    }
   ],
   "source": [
    "#file_save_prefix = \"results/bulk_RNA_seq/\"\n",
    "#Same plot as above just labelling diff genes\n",
    "color_values = {(True,True, True):\"#1f77b4\", (False, True, True): \"#ff7f0e\"}\n",
    "plt.figure(figsize = (7,7)) \n",
    "module_colors = np.array( [\"blank\",\"#984EA3\",\n",
    "   \"#F781BF\",\n",
    "   \"#386CB0\",\n",
    "    \"#F0027F\",\n",
    "   \"#BF5B17\",\n",
    "    \"#FDC086\",\n",
    "                          \"lightgrey\"])\n",
    "colors = [module_colors[gene_module_dict.get(x,7)] if abs(y) > 1 and z > -np.log10(0.05) else \"lightgrey\" for x,y,z in zip(data_to_plot['gene'], data_to_plot['log2FoldChange_rev'], data_to_plot['logpvalue'])]\n",
    "colors_to_plot = list(module_colors[1:])\n",
    "colors_to_plot.reverse()\n",
    "for color in colors_to_plot:\n",
    "    subset_data = data_to_plot[[x == color for x in colors]]\n",
    "    plt.scatter(list(subset_data['log2FoldChange_rev']),list(subset_data['logpvalue']), s = 10, edgecolors=color, color =  color)\n",
    "\n",
    "\n",
    "plt.xlabel(\"Log base 2 Fold Change SKG High v WT High\", size = 12)\n",
    "plt.ylabel(\"-Log base 10 p value\", size = 12)\n",
    "# Label names and positions\n",
    "x = [i for i in data_to_plot['log2FoldChange_rev']]\n",
    "y = [i for i in data_to_plot['logpvalue']]\n",
    "labels_orig = data_to_plot[\"gene\"]\n",
    "\n",
    "genes_to_label = ['AK039536', 'Samd4','H2-Q6', 'Ceacam2','Zhx2','Spock2']\n",
    "\n",
    "to_keep = np.where([i in genes_to_label for i in labels_orig])[0]\n",
    "labels = list(np.array(labels_orig)[to_keep])\n",
    "color_subset = list(np.array(colors)[to_keep])\n",
    "print(labels)\n",
    "x = list(np.array(x)[to_keep])\n",
    "y = list(np.array(y)[to_keep])\n",
    "\n",
    "\n",
    "top_value = 60\n",
    "vert = [50,47,45,35,30,25,20,15,10] +[10]*14\n",
    "left_genes = {'AK039536':'left','Samd4':'left','H2-Q6':'left'}\n",
    "\n",
    "amt_horiz_dict = {\"left\":-6, \"right\":7}\n",
    "amt_drop = -3\n",
    "\n",
    "\n",
    "\n",
    "vert_coord = [15,18,21 ,24 , 60, 45, #1-6\n",
    " 39,57 , 48,  24, 42,54 , #7-11\n",
    " 36, 33 ,30 , 51, 27] + [18,21 ,24 , 60, 45, #1-5\n",
    " 42,57 , 48,  27,54 , #6-10\n",
    " 39, 36 ,33 , 51, 30]#11-15\n",
    "\n",
    "\n",
    "    \n",
    "for i,txt in enumerate(labels):\n",
    "    plt.plot([x[i],amt_horiz_dict[left_genes.get(labels[i],'right')]],[y[i],y[i]+10*(i+1)], color = \"#6D6E71\", linewidth = 0.5)\n",
    "    t = plt.annotate(txt, (amt_horiz_dict[left_genes.get(labels[i],'right')], y[i]+10*(i+1)), size = 15, color = color_subset[i])\n",
    "                              \n",
    "    \n",
    "#plt.savefig(file_save_prefix + \"fig_1E_WT_high_v_SKG_high_volcano_plot_081021_extra_genes.svg\", format=\"svg\")\n",
    "\n",
    "plt.show()\n",
    "plt.close()"
   ]
  },
  {
   "cell_type": "markdown",
   "metadata": {},
   "source": [
    "# Ranked list for GSEA"
   ]
  },
  {
   "cell_type": "code",
   "execution_count": 162,
   "metadata": {},
   "outputs": [
    {
     "data": {
      "text/plain": [
       "[1] 14123     7\n",
       "[1] 12163     7\n"
      ]
     },
     "metadata": {},
     "output_type": "display_data"
    }
   ],
   "source": [
    "%%R\n",
    "group_1 = \"WT_high\"\n",
    "group_2 = \"SKG_high\"\n",
    "file_path = paste(\"results/bulk_RNA_seq/data_S1_diff_exp_\",group_1,\"_\",group_2,\".csv\", sep = \"\")\n",
    "res <- read.csv(file_path, header = TRUE, sep = \",\")\n",
    "print(dim(res))\n",
    "res_sig <- res[which(!is.na(res$padj)&!is.na(res$log2FoldChange)),]\n",
    "print(dim(res_sig))"
   ]
  },
  {
   "cell_type": "code",
   "execution_count": 163,
   "metadata": {},
   "outputs": [],
   "source": [
    "%%R\n",
    "#Use - because positive fold change is for genes enriched in WT high\n",
    "res_sig$rank <- -sign(res_sig$log2FoldChange) * -log10(res_sig$pvalue)\n",
    "res_sig <- res_sig[order(-res_sig$rank),]\n",
    "head(res_sig)\n",
    "\n",
    "file_path = \"results/bulk_RNA_seq/fig_1_diff_exp_SKG_high_v_WT_High_ranked.rnk\"\n",
    "write.table(res_sig[,c(\"X\",\"rank\")],file=file_path,quote=F,sep=\"\\t\",row.names=F)\n",
    "#https://www.biostars.org/p/420955/"
   ]
  },
  {
   "cell_type": "markdown",
   "metadata": {},
   "source": [
    "# Other"
   ]
  },
  {
   "cell_type": "code",
   "execution_count": 41,
   "metadata": {},
   "outputs": [
    {
     "data": {
      "image/png": "[encoded data removed]"
     },
     "metadata": {},
     "output_type": "display_data"
    }
   ],
   "source": [
    "%%R\n",
    "library(RColorBrewer)\n",
    "display.brewer.all()"
   ]
  },
  {
   "cell_type": "code",
   "execution_count": 184,
   "metadata": {},
   "outputs": [
    {
     "data": {
      "image/png": "[encoded data removed]"
     },
     "metadata": {},
     "output_type": "display_data"
    }
   ],
   "source": [
    "%%R\n",
    "library(\"vsn\")\n",
    "meanSdPlot(assay(vsd))"
   ]
  },
  {
   "cell_type": "code",
   "execution_count": 185,
   "metadata": {},
   "outputs": [
    {
     "data": {
      "image/png": "[encoded data removed]"
     },
     "metadata": {},
     "output_type": "display_data"
    }
   ],
   "source": [
    "%%R\n",
    "ntd <- normTransform(dds)\n",
    "\n",
    "meanSdPlot(assay(ntd))"
   ]
  },
  {
   "cell_type": "code",
   "execution_count": 160,
   "metadata": {},
   "outputs": [
    {
     "data": {
      "text/plain": [
       "R version 3.5.1 (2018-07-02)\n",
       "Platform: x86_64-pc-linux-gnu (64-bit)\n",
       "Running under: CentOS Linux 7 (Core)\n",
       "\n",
       "Matrix products: default\n",
       "BLAS/LAPACK: /wynton/home/ye/emccarthy/miniconda3/envs/deseq/lib/libmkl_rt.so\n",
       "\n",
       "locale:\n",
       "[1] en_US.UTF-8\n",
       "\n",
       "attached base packages:\n",
       " [1] grid      parallel  stats4    tools     stats     graphics  grDevices\n",
       " [8] utils     datasets  methods   base     \n",
       "\n",
       "other attached packages:\n",
       " [1] VennDiagram_1.6.20          futile.logger_1.4.3        \n",
       " [3] pheatmap_1.0.12             hash_2.2.6.1               \n",
       " [5] ggplot2_3.3.2               DESeq2_1.22.2              \n",
       " [7] SummarizedExperiment_1.12.0 DelayedArray_0.8.0         \n",
       " [9] BiocParallel_1.16.6         matrixStats_0.57.0         \n",
       "[11] Biobase_2.42.0              GenomicRanges_1.34.0       \n",
       "[13] GenomeInfoDb_1.18.2         IRanges_2.16.0             \n",
       "[15] S4Vectors_0.20.1            BiocGenerics_0.28.0        \n",
       "[17] RevoUtils_11.0.1            RevoUtilsMath_11.0.0       \n",
       "\n",
       "loaded via a namespace (and not attached):\n",
       " [1] bit64_4.0.5            splines_3.5.1          Formula_1.2-4         \n",
       " [4] latticeExtra_0.6-28    blob_1.2.1             GenomeInfoDbData_1.2.0\n",
       " [7] pillar_1.4.6           RSQLite_2.2.1          backports_1.2.0       \n",
       "[10] lattice_0.20-41        glue_1.4.2             digest_0.6.27         \n",
       "[13] RColorBrewer_1.1-2     XVector_0.22.0         checkmate_2.0.0       \n",
       "[16] colorspace_2.0-0       htmltools_0.5.0        Matrix_1.2-18         \n",
       "[19] XML_3.99-0.3           pkgconfig_2.0.3        genefilter_1.64.0     \n",
       "[22] zlibbioc_1.28.0        purrr_0.3.4            xtable_1.8-4          \n",
       "[25] scales_1.1.1           htmlTable_2.1.0        tibble_3.0.4          \n",
       "[28] annotate_1.60.1        farver_2.0.3           generics_0.1.0        \n",
       "[31] ellipsis_0.3.1         withr_2.3.0            lazyeval_0.2.1        \n",
       "[34] nnet_7.3-14            survival_3.2-7         magrittr_2.0.1        \n",
       "[37] crayon_1.3.4           memoise_1.1.0          foreign_0.8-71        \n",
       "[40] data.table_1.13.2      formatR_1.7            lifecycle_0.2.0       \n",
       "[43] stringr_1.4.0          munsell_0.5.0          locfit_1.5-9.4        \n",
       "[46] cluster_2.1.0          lambda.r_1.2.4         AnnotationDbi_1.44.0  \n",
       "[49] compiler_3.5.1         rlang_0.4.8            RCurl_1.98-1.2        \n",
       "[52] rstudioapi_0.13        htmlwidgets_1.5.2      labeling_0.4.2        \n",
       "[55] bitops_1.0-6           base64enc_0.1-3        gtable_0.3.0          \n",
       "[58] DBI_1.1.0              R6_2.5.0               gridExtra_2.3         \n",
       "[61] knitr_1.30             dplyr_1.0.2            bit_4.0.4             \n",
       "[64] Hmisc_4.4-1            futile.options_1.0.1   stringi_1.5.3         \n",
       "[67] Rcpp_1.0.5             vctrs_0.3.5            geneplotter_1.60.0    \n",
       "[70] rpart_4.1-15           tidyselect_1.1.0       xfun_0.19             \n"
      ]
     },
     "metadata": {},
     "output_type": "display_data"
    }
   ],
   "source": [
    "%%R\n",
    "sessionInfo()"
   ]
  },
  {
   "cell_type": "code",
   "execution_count": null,
   "metadata": {},
   "outputs": [],
   "source": []
  }
 ],
 "metadata": {
  "kernelspec": {
   "display_name": "Python [conda env:deseq]",
   "language": "python",
   "name": "conda-env-deseq-py"
  },
  "language_info": {
   "codemirror_mode": {
    "name": "ipython",
    "version": 3
   },
   "file_extension": ".py",
   "mimetype": "text/x-python",
   "name": "python",
   "nbconvert_exporter": "python",
   "pygments_lexer": "ipython3",
   "version": "3.7.7"
  }
 },
 "nbformat": 4,
 "nbformat_minor": 4
}
